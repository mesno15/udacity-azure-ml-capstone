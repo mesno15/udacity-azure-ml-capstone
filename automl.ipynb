{
  "cells": [
    {
      "cell_type": "markdown",
      "source": [
        "# Automated ML\n",
        "\n",
        "TODO: Import Dependencies. In the cell below, import all the dependencies that you will need to complete the project."
      ],
      "metadata": {}
    },
    {
      "cell_type": "code",
      "source": [
        "import logging\n",
        "import os\n",
        "import csv\n",
        "import json\n",
        "\n",
        "from matplotlib import pyplot as plt\n",
        "import numpy as np\n",
        "import pandas as pd\n",
        "from sklearn import datasets\n",
        "import pkg_resources\n",
        "\n",
        "import azureml.core\n",
        "from azureml.core.experiment import Experiment\n",
        "from azureml.core.workspace import Workspace\n",
        "from azureml.train.automl import AutoMLConfig\n",
        "from azureml.core.dataset import Dataset\n",
        "\n",
        "from azureml.pipeline.steps import AutoMLStep\n",
        "from azureml.core.compute import AmlCompute\n",
        "from azureml.core.compute import ComputeTarget\n",
        "from azureml.core.compute_target import ComputeTargetException\n",
        "from azureml.widgets import RunDetails\n",
        "\n",
        "from azureml.core.model import InferenceConfig\n",
        "from azureml.core.webservice import AciWebservice\n",
        "from azureml.core.webservice import Webservice\n",
        "from azureml.core.model import Model\n",
        "from azureml.core.environment import Environment\n",
        "\n",
        "from azureml.automl.runtime.onnx_convert import OnnxConverter\n",
        "\n",
        "\n",
        "# Check core SDK version number\n",
        "print(\"SDK version:\", azureml.core.VERSION)"
      ],
      "outputs": [
        {
          "output_type": "stream",
          "name": "stdout",
          "text": "SDK version: 1.49.0\n"
        }
      ],
      "execution_count": 38,
      "metadata": {
        "gather": {
          "logged": 1683540146470
        },
        "jupyter": {
          "outputs_hidden": false,
          "source_hidden": false
        },
        "nteract": {
          "transient": {
            "deleting": false
          }
        }
      }
    },
    {
      "cell_type": "markdown",
      "source": [
        "## Dataset\n",
        "\n",
        "### Overview\n",
        "TODO: In this markdown cell, give an overview of the dataset you are using. Also mention the task you will be performing.\n",
        "\n",
        "\n",
        "TODO: Get data. In the cell below, write code to access the data you will be using in this project. Remember that the dataset needs to be external."
      ],
      "metadata": {}
    },
    {
      "cell_type": "code",
      "source": [
        "ws = Workspace.from_config()\n",
        "experiment_name = 'cancer-auto-ml'\n",
        "project_folder = './capstone-project'\n",
        "\n",
        "experiment=Experiment(ws, experiment_name)\n",
        "experiment"
      ],
      "outputs": [
        {
          "output_type": "stream",
          "name": "stdout",
          "text": "Performing interactive authentication. Please follow the instructions on the terminal.\nInteractive authentication successfully completed.\n"
        },
        {
          "output_type": "stream",
          "name": "stderr",
          "text": "To sign in, use a web browser to open the page https://microsoft.com/devicelogin and enter the code RMCLY2WPW to authenticate.\n"
        },
        {
          "output_type": "execute_result",
          "execution_count": 3,
          "data": {
            "text/plain": "Experiment(Name: cancer-auto-ml,\nWorkspace: quick-starts-ws-233079)",
            "text/html": "<table style=\"width:100%\"><tr><th>Name</th><th>Workspace</th><th>Report Page</th><th>Docs Page</th></tr><tr><td>cancer-auto-ml</td><td>quick-starts-ws-233079</td><td><a href=\"https://ml.azure.com/experiments/id/7ea3610d-6262-48a9-bab9-f99647ab8fad?wsid=/subscriptions/6971f5ac-8af1-446e-8034-05acea24681f/resourcegroups/aml-quickstarts-233079/workspaces/quick-starts-ws-233079&amp;tid=660b3398-b80e-49d2-bc5b-ac1dc93b5254\" target=\"_blank\" rel=\"noopener\">Link to Azure Machine Learning studio</a></td><td><a href=\"https://docs.microsoft.com/en-us/python/api/azureml-core/azureml.core.experiment.Experiment?view=azure-ml-py\" target=\"_blank\" rel=\"noopener\">Link to Documentation</a></td></tr></table>"
          },
          "metadata": {}
        }
      ],
      "execution_count": 3,
      "metadata": {
        "gather": {
          "logged": 1683534585576
        },
        "jupyter": {
          "outputs_hidden": false,
          "source_hidden": false
        },
        "nteract": {
          "transient": {
            "deleting": false
          }
        }
      }
    },
    {
      "cell_type": "code",
      "source": [
        "\r\n",
        "# NOTE: update the cluster name to match the existing cluster\r\n",
        "# Choose a name for your CPU cluster\r\n",
        "amlcompute_cluster_name = \"cluster-project\"\r\n",
        "\r\n",
        "# Verify that cluster does not exist already\r\n",
        "try:\r\n",
        "    compute_target = ComputeTarget(workspace=ws, name=amlcompute_cluster_name)\r\n",
        "    print('Found existing cluster, use it.')\r\n",
        "except ComputeTargetException:\r\n",
        "    compute_config = AmlCompute.provisioning_configuration(vm_size='STANDARD_D2_V2',# for GPU, use \"STANDARD_NC6\"\r\n",
        "                                                           #vm_priority = 'lowpriority', # optional\r\n",
        "                                                           max_nodes=4)\r\n",
        "    compute_target = ComputeTarget.create(ws, amlcompute_cluster_name, compute_config)\r\n",
        "\r\n",
        "compute_target.wait_for_completion(show_output=True, min_node_count = 1, timeout_in_minutes = 10)\r\n",
        "# For a more detailed view of current AmlCompute status, use get_status()."
      ],
      "outputs": [
        {
          "output_type": "stream",
          "name": "stdout",
          "text": "InProgress..\nSucceededProvisioning operation finished, operation \"Succeeded\"\nSucceeded................................................................................................................\nAmlCompute wait for completion finished\n\nWait timeout has been reached\nCurrent provisioning state of AmlCompute is \"Succeeded\" and current node count is \"0\"\n"
        }
      ],
      "execution_count": 4,
      "metadata": {
        "jupyter": {
          "source_hidden": false,
          "outputs_hidden": false
        },
        "nteract": {
          "transient": {
            "deleting": false
          }
        },
        "gather": {
          "logged": 1683535202106
        }
      }
    },
    {
      "cell_type": "code",
      "source": [
        "dataset_name = 'cancer-data'\n",
        "try: \n",
        "    ds = ws.datasets[dataset_name]\n",
        "except KeyError:\n",
        "    print(\"Dataset not found, create and rerun this cell!\")\n",
        "    raise"
      ],
      "outputs": [],
      "execution_count": 8,
      "metadata": {
        "gather": {
          "logged": 1683535426588
        }
      }
    },
    {
      "cell_type": "code",
      "source": [
        "df = ds.to_pandas_dataframe()\n",
        "df.head()"
      ],
      "outputs": [
        {
          "output_type": "execute_result",
          "execution_count": 10,
          "data": {
            "text/plain": "         id diagnosis  radius_mean  texture_mean  perimeter_mean  area_mean  \\\n0    842302         M        17.99         10.38          122.80     1001.0   \n1    842517         M        20.57         17.77          132.90     1326.0   \n2  84300903         M        19.69         21.25          130.00     1203.0   \n3  84348301         M        11.42         20.38           77.58      386.1   \n4  84358402         M        20.29         14.34          135.10     1297.0   \n\n   smoothness_mean  compactness_mean  concavity_mean  concave points_mean  \\\n0          0.11840           0.27760          0.3001              0.14710   \n1          0.08474           0.07864          0.0869              0.07017   \n2          0.10960           0.15990          0.1974              0.12790   \n3          0.14250           0.28390          0.2414              0.10520   \n4          0.10030           0.13280          0.1980              0.10430   \n\n   ...  radius_worst  texture_worst  perimeter_worst  area_worst  \\\n0  ...         25.38          17.33           184.60      2019.0   \n1  ...         24.99          23.41           158.80      1956.0   \n2  ...         23.57          25.53           152.50      1709.0   \n3  ...         14.91          26.50            98.87       567.7   \n4  ...         22.54          16.67           152.20      1575.0   \n\n   smoothness_worst  compactness_worst  concavity_worst  concave points_worst  \\\n0            0.1622             0.6656           0.7119                0.2654   \n1            0.1238             0.1866           0.2416                0.1860   \n2            0.1444             0.4245           0.4504                0.2430   \n3            0.2098             0.8663           0.6869                0.2575   \n4            0.1374             0.2050           0.4000                0.1625   \n\n   symmetry_worst  fractal_dimension_worst  \n0          0.4601                  0.11890  \n1          0.2750                  0.08902  \n2          0.3613                  0.08758  \n3          0.6638                  0.17300  \n4          0.2364                  0.07678  \n\n[5 rows x 32 columns]",
            "text/html": "<div>\n<style scoped>\n    .dataframe tbody tr th:only-of-type {\n        vertical-align: middle;\n    }\n\n    .dataframe tbody tr th {\n        vertical-align: top;\n    }\n\n    .dataframe thead th {\n        text-align: right;\n    }\n</style>\n<table border=\"1\" class=\"dataframe\">\n  <thead>\n    <tr style=\"text-align: right;\">\n      <th></th>\n      <th>id</th>\n      <th>diagnosis</th>\n      <th>radius_mean</th>\n      <th>texture_mean</th>\n      <th>perimeter_mean</th>\n      <th>area_mean</th>\n      <th>smoothness_mean</th>\n      <th>compactness_mean</th>\n      <th>concavity_mean</th>\n      <th>concave points_mean</th>\n      <th>...</th>\n      <th>radius_worst</th>\n      <th>texture_worst</th>\n      <th>perimeter_worst</th>\n      <th>area_worst</th>\n      <th>smoothness_worst</th>\n      <th>compactness_worst</th>\n      <th>concavity_worst</th>\n      <th>concave points_worst</th>\n      <th>symmetry_worst</th>\n      <th>fractal_dimension_worst</th>\n    </tr>\n  </thead>\n  <tbody>\n    <tr>\n      <th>0</th>\n      <td>842302</td>\n      <td>M</td>\n      <td>17.99</td>\n      <td>10.38</td>\n      <td>122.80</td>\n      <td>1001.0</td>\n      <td>0.11840</td>\n      <td>0.27760</td>\n      <td>0.3001</td>\n      <td>0.14710</td>\n      <td>...</td>\n      <td>25.38</td>\n      <td>17.33</td>\n      <td>184.60</td>\n      <td>2019.0</td>\n      <td>0.1622</td>\n      <td>0.6656</td>\n      <td>0.7119</td>\n      <td>0.2654</td>\n      <td>0.4601</td>\n      <td>0.11890</td>\n    </tr>\n    <tr>\n      <th>1</th>\n      <td>842517</td>\n      <td>M</td>\n      <td>20.57</td>\n      <td>17.77</td>\n      <td>132.90</td>\n      <td>1326.0</td>\n      <td>0.08474</td>\n      <td>0.07864</td>\n      <td>0.0869</td>\n      <td>0.07017</td>\n      <td>...</td>\n      <td>24.99</td>\n      <td>23.41</td>\n      <td>158.80</td>\n      <td>1956.0</td>\n      <td>0.1238</td>\n      <td>0.1866</td>\n      <td>0.2416</td>\n      <td>0.1860</td>\n      <td>0.2750</td>\n      <td>0.08902</td>\n    </tr>\n    <tr>\n      <th>2</th>\n      <td>84300903</td>\n      <td>M</td>\n      <td>19.69</td>\n      <td>21.25</td>\n      <td>130.00</td>\n      <td>1203.0</td>\n      <td>0.10960</td>\n      <td>0.15990</td>\n      <td>0.1974</td>\n      <td>0.12790</td>\n      <td>...</td>\n      <td>23.57</td>\n      <td>25.53</td>\n      <td>152.50</td>\n      <td>1709.0</td>\n      <td>0.1444</td>\n      <td>0.4245</td>\n      <td>0.4504</td>\n      <td>0.2430</td>\n      <td>0.3613</td>\n      <td>0.08758</td>\n    </tr>\n    <tr>\n      <th>3</th>\n      <td>84348301</td>\n      <td>M</td>\n      <td>11.42</td>\n      <td>20.38</td>\n      <td>77.58</td>\n      <td>386.1</td>\n      <td>0.14250</td>\n      <td>0.28390</td>\n      <td>0.2414</td>\n      <td>0.10520</td>\n      <td>...</td>\n      <td>14.91</td>\n      <td>26.50</td>\n      <td>98.87</td>\n      <td>567.7</td>\n      <td>0.2098</td>\n      <td>0.8663</td>\n      <td>0.6869</td>\n      <td>0.2575</td>\n      <td>0.6638</td>\n      <td>0.17300</td>\n    </tr>\n    <tr>\n      <th>4</th>\n      <td>84358402</td>\n      <td>M</td>\n      <td>20.29</td>\n      <td>14.34</td>\n      <td>135.10</td>\n      <td>1297.0</td>\n      <td>0.10030</td>\n      <td>0.13280</td>\n      <td>0.1980</td>\n      <td>0.10430</td>\n      <td>...</td>\n      <td>22.54</td>\n      <td>16.67</td>\n      <td>152.20</td>\n      <td>1575.0</td>\n      <td>0.1374</td>\n      <td>0.2050</td>\n      <td>0.4000</td>\n      <td>0.1625</td>\n      <td>0.2364</td>\n      <td>0.07678</td>\n    </tr>\n  </tbody>\n</table>\n<p>5 rows × 32 columns</p>\n</div>"
          },
          "metadata": {}
        }
      ],
      "execution_count": 10,
      "metadata": {
        "gather": {
          "logged": 1683535443957
        }
      }
    },
    {
      "cell_type": "markdown",
      "source": [
        "## AutoML Configuration\n",
        "\n",
        "TODO: Explain why you chose the automl settings and cofiguration you used below."
      ],
      "metadata": {}
    },
    {
      "cell_type": "code",
      "source": [
        "automl_settings = {\n",
        "    \"experiment_timeout_minutes\": 20,\n",
        "    \"max_concurrent_iterations\": 5,\n",
        "    \"primary_metric\" : 'AUC_weighted'\n",
        "}\n",
        "automl_config = AutoMLConfig(compute_target=compute_target,\n",
        "                             task = \"classification\",\n",
        "                             training_data=ds,\n",
        "                             label_column_name=\"diagnosis\",   \n",
        "                             path = project_folder,\n",
        "                             enable_early_stopping=True,\n",
        "                             featurization= 'auto',\n",
        "                             debug_log = \"automl_errors.log\",\n",
        "                             **automl_settings\n",
        "                            )"
      ],
      "outputs": [],
      "execution_count": 11,
      "metadata": {
        "gather": {
          "logged": 1683535449985
        },
        "jupyter": {
          "outputs_hidden": false,
          "source_hidden": false
        },
        "nteract": {
          "transient": {
            "deleting": false
          }
        }
      }
    },
    {
      "cell_type": "code",
      "source": [
        "\n",
        "remote_run = experiment.submit(automl_config)"
      ],
      "outputs": [
        {
          "output_type": "stream",
          "name": "stdout",
          "text": "Submitting remote run.\n"
        },
        {
          "output_type": "display_data",
          "data": {
            "text/plain": "<IPython.core.display.HTML object>",
            "text/html": "<table style=\"width:100%\"><tr><th>Experiment</th><th>Id</th><th>Type</th><th>Status</th><th>Details Page</th><th>Docs Page</th></tr><tr><td>cancer-auto-ml</td><td>AutoML_72024c89-fcd5-47e9-b812-3889f402a6be</td><td>automl</td><td>NotStarted</td><td><a href=\"https://ml.azure.com/runs/AutoML_72024c89-fcd5-47e9-b812-3889f402a6be?wsid=/subscriptions/6971f5ac-8af1-446e-8034-05acea24681f/resourcegroups/aml-quickstarts-233079/workspaces/quick-starts-ws-233079&amp;tid=660b3398-b80e-49d2-bc5b-ac1dc93b5254\" target=\"_blank\" rel=\"noopener\">Link to Azure Machine Learning studio</a></td><td><a href=\"https://docs.microsoft.com/en-us/python/api/overview/azure/ml/intro?view=azure-ml-py\" target=\"_blank\" rel=\"noopener\">Link to Documentation</a></td></tr></table>"
          },
          "metadata": {}
        }
      ],
      "execution_count": 12,
      "metadata": {
        "gather": {
          "logged": 1683535457398
        },
        "jupyter": {
          "outputs_hidden": false,
          "source_hidden": false
        },
        "nteract": {
          "transient": {
            "deleting": false
          }
        }
      }
    },
    {
      "cell_type": "markdown",
      "source": [
        "## Run Details\n",
        "\n",
        "OPTIONAL: Write about the different models trained and their performance. Why do you think some models did better than others?\n",
        "\n",
        "TODO: In the cell below, use the `RunDetails` widget to show the different experiments."
      ],
      "metadata": {}
    },
    {
      "cell_type": "code",
      "source": [
        "RunDetails(remote_run).show()\n",
        "remote_run.wait_for_completion(show_output=True)"
      ],
      "outputs": [
        {
          "output_type": "display_data",
          "data": {
            "text/plain": "_AutoMLWidget(widget_settings={'childWidgetDisplay': 'popup', 'send_telemetry': False, 'log_level': 'INFO', 's…",
            "application/vnd.jupyter.widget-view+json": {
              "version_major": 2,
              "version_minor": 0,
              "model_id": "746ce68e5c4e4bbaa763fe07ec16f9a3"
            }
          },
          "metadata": {}
        },
        {
          "output_type": "display_data",
          "data": {
            "application/aml.mini.widget.v1": "{\"status\": \"Completed\", \"workbench_run_details_uri\": \"https://ml.azure.com/runs/AutoML_72024c89-fcd5-47e9-b812-3889f402a6be?wsid=/subscriptions/6971f5ac-8af1-446e-8034-05acea24681f/resourcegroups/aml-quickstarts-233079/workspaces/quick-starts-ws-233079&tid=660b3398-b80e-49d2-bc5b-ac1dc93b5254\", \"run_id\": \"AutoML_72024c89-fcd5-47e9-b812-3889f402a6be\", \"run_properties\": {\"run_id\": \"AutoML_72024c89-fcd5-47e9-b812-3889f402a6be\", \"created_utc\": \"2023-05-08T08:44:15.201334Z\", \"properties\": {\"num_iterations\": \"1000\", \"training_type\": \"TrainFull\", \"acquisition_function\": \"EI\", \"primary_metric\": \"AUC_weighted\", \"train_split\": \"0\", \"acquisition_parameter\": \"0\", \"num_cross_validation\": null, \"target\": \"cluster-project\", \"AMLSettingsJsonString\": \"{\\\"path\\\":null,\\\"name\\\":\\\"cancer-auto-ml\\\",\\\"subscription_id\\\":\\\"6971f5ac-8af1-446e-8034-05acea24681f\\\",\\\"resource_group\\\":\\\"aml-quickstarts-233079\\\",\\\"workspace_name\\\":\\\"quick-starts-ws-233079\\\",\\\"region\\\":\\\"westus2\\\",\\\"compute_target\\\":\\\"cluster-project\\\",\\\"spark_service\\\":null,\\\"azure_service\\\":\\\"remote\\\",\\\"many_models\\\":false,\\\"pipeline_fetch_max_batch_size\\\":1,\\\"enable_batch_run\\\":true,\\\"enable_parallel_run\\\":false,\\\"num_procs\\\":null,\\\"enable_run_restructure\\\":false,\\\"start_auxiliary_runs_before_parent_complete\\\":false,\\\"enable_code_generation\\\":true,\\\"iterations\\\":1000,\\\"primary_metric\\\":\\\"AUC_weighted\\\",\\\"task_type\\\":\\\"classification\\\",\\\"positive_label\\\":null,\\\"data_script\\\":null,\\\"test_size\\\":0.0,\\\"test_include_predictions_only\\\":false,\\\"validation_size\\\":0.0,\\\"n_cross_validations\\\":null,\\\"y_min\\\":null,\\\"y_max\\\":null,\\\"num_classes\\\":null,\\\"featurization\\\":\\\"auto\\\",\\\"_ignore_package_version_incompatibilities\\\":false,\\\"is_timeseries\\\":false,\\\"max_cores_per_iteration\\\":1,\\\"max_concurrent_iterations\\\":5,\\\"iteration_timeout_minutes\\\":null,\\\"mem_in_mb\\\":null,\\\"enforce_time_on_windows\\\":false,\\\"experiment_timeout_minutes\\\":20,\\\"experiment_exit_score\\\":null,\\\"partition_column_names\\\":null,\\\"whitelist_models\\\":null,\\\"blacklist_algos\\\":[\\\"TensorFlowLinearClassifier\\\",\\\"TensorFlowDNN\\\"],\\\"supported_models\\\":[\\\"TensorFlowDNN\\\",\\\"XGBoostClassifier\\\",\\\"GradientBoosting\\\",\\\"LogisticRegression\\\",\\\"BernoulliNaiveBayes\\\",\\\"ExtremeRandomTrees\\\",\\\"AveragedPerceptronClassifier\\\",\\\"LinearSVM\\\",\\\"LightGBM\\\",\\\"TensorFlowLinearClassifier\\\",\\\"SVM\\\",\\\"MultinomialNaiveBayes\\\",\\\"KNN\\\",\\\"TabnetClassifier\\\",\\\"RandomForest\\\",\\\"DecisionTree\\\",\\\"SGD\\\"],\\\"private_models\\\":[],\\\"auto_blacklist\\\":true,\\\"blacklist_samples_reached\\\":false,\\\"exclude_nan_labels\\\":true,\\\"verbosity\\\":20,\\\"_debug_log\\\":\\\"azureml_automl.log\\\",\\\"show_warnings\\\":false,\\\"model_explainability\\\":true,\\\"service_url\\\":null,\\\"sdk_url\\\":null,\\\"sdk_packages\\\":null,\\\"enable_onnx_compatible_models\\\":false,\\\"enable_split_onnx_featurizer_estimator_models\\\":false,\\\"vm_type\\\":\\\"STANDARD_D2_V2\\\",\\\"telemetry_verbosity\\\":20,\\\"send_telemetry\\\":true,\\\"enable_dnn\\\":false,\\\"scenario\\\":\\\"AutoML\\\",\\\"environment_label\\\":null,\\\"save_mlflow\\\":false,\\\"enable_categorical_indicators\\\":false,\\\"force_text_dnn\\\":false,\\\"enable_feature_sweeping\\\":true,\\\"enable_early_stopping\\\":true,\\\"early_stopping_n_iters\\\":10,\\\"arguments\\\":null,\\\"dataset_id\\\":\\\"eee7b867-d4a7-4053-be2b-e674cb04cc61\\\",\\\"hyperdrive_config\\\":null,\\\"validation_dataset_id\\\":null,\\\"run_source\\\":null,\\\"metrics\\\":null,\\\"enable_metric_confidence\\\":false,\\\"enable_ensembling\\\":true,\\\"enable_stack_ensembling\\\":true,\\\"ensemble_iterations\\\":15,\\\"enable_tf\\\":false,\\\"enable_subsampling\\\":null,\\\"subsample_seed\\\":null,\\\"enable_nimbusml\\\":false,\\\"enable_streaming\\\":false,\\\"force_streaming\\\":false,\\\"track_child_runs\\\":true,\\\"n_best_runs\\\":1,\\\"allowed_private_models\\\":[],\\\"label_column_name\\\":\\\"diagnosis\\\",\\\"weight_column_name\\\":null,\\\"cv_split_column_names\\\":null,\\\"enable_local_managed\\\":false,\\\"_local_managed_run_id\\\":null,\\\"cost_mode\\\":1,\\\"lag_length\\\":0,\\\"metric_operation\\\":\\\"maximize\\\",\\\"preprocess\\\":true}\", \"DataPrepJsonString\": \"{\\\\\\\"training_data\\\\\\\": {\\\\\\\"datasetId\\\\\\\": \\\\\\\"eee7b867-d4a7-4053-be2b-e674cb04cc61\\\\\\\"}, \\\\\\\"datasets\\\\\\\": 0}\", \"EnableSubsampling\": null, \"runTemplate\": \"AutoML\", \"azureml.runsource\": \"automl\", \"display_task_type\": \"classification\", \"dependencies_versions\": \"{\\\"azureml-widgets\\\": \\\"1.49.0\\\", \\\"azureml-training-tabular\\\": \\\"1.49.0\\\", \\\"azureml-train\\\": \\\"1.49.0\\\", \\\"azureml-train-restclients-hyperdrive\\\": \\\"1.49.0\\\", \\\"azureml-train-core\\\": \\\"1.49.0\\\", \\\"azureml-train-automl\\\": \\\"1.49.0\\\", \\\"azureml-train-automl-runtime\\\": \\\"1.49.0\\\", \\\"azureml-train-automl-client\\\": \\\"1.49.0\\\", \\\"azureml-tensorboard\\\": \\\"1.49.0\\\", \\\"azureml-telemetry\\\": \\\"1.49.0\\\", \\\"azureml-sdk\\\": \\\"1.49.0\\\", \\\"azureml-responsibleai\\\": \\\"1.49.0\\\", \\\"azureml-pipeline\\\": \\\"1.49.0\\\", \\\"azureml-pipeline-steps\\\": \\\"1.49.0\\\", \\\"azureml-pipeline-core\\\": \\\"1.49.0\\\", \\\"azureml-opendatasets\\\": \\\"1.49.0\\\", \\\"azureml-mlflow\\\": \\\"1.49.0\\\", \\\"azureml-interpret\\\": \\\"1.49.0\\\", \\\"azureml-inference-server-http\\\": \\\"0.8.0\\\", \\\"azureml-explain-model\\\": \\\"1.49.0\\\", \\\"azureml-defaults\\\": \\\"1.49.0\\\", \\\"azureml-dataset-runtime\\\": \\\"1.49.0\\\", \\\"azureml-dataprep\\\": \\\"4.9.1\\\", \\\"azureml-dataprep-rslex\\\": \\\"2.16.1\\\", \\\"azureml-dataprep-native\\\": \\\"38.0.0\\\", \\\"azureml-datadrift\\\": \\\"1.49.0\\\", \\\"azureml-core\\\": \\\"1.49.0\\\", \\\"azureml-contrib-services\\\": \\\"1.49.0\\\", \\\"azureml-contrib-server\\\": \\\"1.49.0\\\", \\\"azureml-contrib-reinforcementlearning\\\": \\\"1.49.0\\\", \\\"azureml-contrib-pipeline-steps\\\": \\\"1.49.0\\\", \\\"azureml-contrib-notebook\\\": \\\"1.49.0\\\", \\\"azureml-contrib-fairness\\\": \\\"1.49.0\\\", \\\"azureml-contrib-dataset\\\": \\\"1.49.0\\\", \\\"azureml-contrib-automl-pipeline-steps\\\": \\\"1.49.0\\\", \\\"azureml-cli-common\\\": \\\"1.49.0\\\", \\\"azureml-automl-runtime\\\": \\\"1.49.0\\\", \\\"azureml-automl-dnn-nlp\\\": \\\"1.49.0\\\", \\\"azureml-automl-core\\\": \\\"1.49.0\\\", \\\"azureml-accel-models\\\": \\\"1.49.0\\\"}\", \"_aml_system_scenario_identification\": \"Remote.Parent\", \"ClientType\": \"SDK\", \"PlatformVersion\": \"DPV1\", \"environment_cpu_name\": \"AzureML-AutoML\", \"environment_cpu_label\": \"prod\", \"environment_gpu_name\": \"AzureML-AutoML-GPU\", \"environment_gpu_label\": \"prod\", \"root_attribution\": \"automl\", \"attribution\": \"AutoML\", \"Orchestrator\": \"AutoML\", \"CancelUri\": \"https://westus2.api.azureml.ms/jasmine/v1.0/subscriptions/6971f5ac-8af1-446e-8034-05acea24681f/resourceGroups/aml-quickstarts-233079/providers/Microsoft.MachineLearningServices/workspaces/quick-starts-ws-233079/experimentids/7ea3610d-6262-48a9-bab9-f99647ab8fad/cancel/AutoML_72024c89-fcd5-47e9-b812-3889f402a6be\", \"ClientSdkVersion\": null, \"snapshotId\": \"00000000-0000-0000-0000-000000000000\", \"SetupRunId\": \"AutoML_72024c89-fcd5-47e9-b812-3889f402a6be_setup\", \"SetupRunContainerId\": \"dcid.AutoML_72024c89-fcd5-47e9-b812-3889f402a6be_setup\", \"FeaturizationRunJsonPath\": \"featurizer_container.json\", \"FeaturizationRunId\": \"AutoML_72024c89-fcd5-47e9-b812-3889f402a6be_featurize\", \"ProblemInfoJsonString\": \"{\\\"dataset_num_categorical\\\": 0, \\\"is_sparse\\\": false, \\\"subsampling\\\": false, \\\"has_extra_col\\\": true, \\\"dataset_classes\\\": 2, \\\"dataset_features\\\": 31, \\\"dataset_samples\\\": 569, \\\"single_frequency_class_detected\\\": false}\", \"ModelExplainRunId\": \"AutoML_72024c89-fcd5-47e9-b812-3889f402a6be_ModelExplain\"}, \"tags\": {\"model_explain_run\": \"best_run\", \"_aml_system_automl_run_workspace_id\": \"2d59d4d3-b1d1-4287-ad6f-365d0ae5845b\", \"_aml_system_azureml.automlComponent\": \"AutoML\", \"pipeline_id_000\": \"5dfac790c5c209f98a1da2dc1c7fb76f0397324f;c7af0367625be6ac5c2fecbfc72ed444cb7a2111;51ae05309834b29f71340af1008fc94fbd8213f4;ce2643edf3d450b10c86c7d034a9bc952dc282d3;039a99c3d5147edeb525249e2660628be3e8b83f;a18bd1af1629e8f96b25a32ac94e62b3bd9a9605;a3dadd95854bf6116ab454844302b51d417d78b7;1dfdf370ba770047b14bfa59c40920815defcdab;e92a63ad06df7b68a48ce96c06fad3fbf2a25ce2;5bc24cef89e67ee668d55e59548e1032cfbc7f0f;516a24fb1445632ecf04366c17b960ce157878b3;088b94df63b852cc8cba96bb2fa191ce8d1ef2e5;294650ec23bc3d067a4972de7ceb12f6e97260fa;4f207270c6817858b81b8050f1efa1d0053db52e;634afb4b36be9286ca21289f56b5f7cdf1c72fa9;7ea0a64582be36507254a026ac98e9a5a49e1f34;b983b703e4d6dbffd4a815a4d1c2ed94225c5027;6f4a466f84f725a47910c1dff062a1bb46df2a21;681a59302459aec2cc115ddbc14e1d28f4b3b8df;dea7fdbaedc77258dbfe31dbfed41e768ca38939;c74787cd2f0507b852a1ac70d504d83ac9bdec83;a72eb56f3d4aadb7b7f0149ba6e5f05657a95ca1;2aa41acf133c6478770be628f9aa2251111947cc;a7434e890cabef86b0ce4ae71fb633e1e92b854d;169ee938398f3d9dbb72503258e097a85432b6c9;1e38ae92baee19b18f211a8b14c16015d5ee3dc3;9610149fbcf43017aa810a290e9c04cbe6fa8684;945bc338bbf7764f91c9985162cef4a777d4f661;64fb49efe514abb65dd69469e46129585f6960cd;375386b2772f10b2b9bf83d485c9807bf5d3e517;a2a45922312ca6cc4d0831e6930b03e02e71541c;63e4cb6d1c7f84fa46b69556d4582aa2b40c78f2;bf9fa6974c30e6d6711dd4fc215f6f425928c9a1;5a1822c83509723347ba8a87ab1c90d39eeb023c;fce9cbb45e12a1de9e002997fb16ef7abff5a367;b19eeb61727e9c4fbb5aa45fb6e9fe3fab5b1f04;e4a8da1aed61bfc29ed0343fdaac2f509a1b567c;55609b63cef82650f347f75f468356428beb60fc;__AutoML_Stack_Ensemble__;__AutoML_Ensemble__\", \"score_000\": \"0.9947209139504535;0.9945989074403396;0.9895895002669224;0.9916245686085171;0.9895218252059907;0.8988235656576524;0.9818203059854163;0.9690621545235834;0.9891695552970461;0.9820608857085764;0.9831450855106294;0.9904609510560263;0.9888677747704246;0.9887000972962878;0.9642404386490734;0.9902681068623792;0.9863831865051754;0.9615228211715454;0.9803706012176541;0.9921667972540064;0.9914306729952138;0.9909131236178537;0.9936810958515221;0.9906671780985035;0.994393700254537;0.984904756704629;0.9894330759956317;0.9945601454408999;0.992647862982708;0.9905533339627863;0.9896032108863253;0.9906560451334064;0.9939905064865735;0.9852500628623939;0.9853183220609913;NaN;0.659714895340832;NaN;0.9969047023947919;0.9971575796326435\", \"predicted_cost_000\": \"0;0;0.5;0.5;0.5;0.5;0.5;0.5;0.5;0.5;0.5;0.5;0.5;0.5;0.5;0.5;0.5;0.5;0.5;0.5;0.07020470101901143;0.018233179618961315;0.7711137668409496;0.7528669867944165;0.32643601241806125;0.32539515337161573;0.22170822372377677;0.5837080603404398;0.25853618647790316;0.12026196408971994;0.0763838825866371;0.6696580367673669;0.15581473543951346;0.27713775181441874;0.3096985273257985;0.04303476951306054;0.0380788226182725;0.3546294031989203;0;0\", \"fit_time_000\": \"0.22553620000000002;0.12230750000000001;0.0238852;0.0225391;0.0254275;0.0084531;0.0470002;0.2546368;0.018637900000000002;0.20654460000000002;0.0474901;0.028843799999999996;0.024489700000000003;0.13502199999999998;0.0087216;0.0766097;0.0613332;0.0400258;0.0499697;0.6632674;0.0680833;0.3181137;0.15659050000000002;0.4594079;0.1220918;0.0717872;0.05332220000000001;0.07854130000000001;0.7504984;0.048600199999999996;0.0271996;0.8043996999999999;0.1995365;1.5701948000000001;1.3811368000000002;NaN;0.009717;NaN;47;43\", \"training_percent_000\": \"100;100;100;100;100;100;100;100;100;100;100;100;100;100;100;100;100;100;100;100;100;100;100;100;100;100;100;100;100;100;100;100;100;100;100;100;100;100;100;100\", \"iteration_000\": \"0;1;2;3;4;5;6;7;8;9;10;11;12;16;13;17;14;18;15;19;20;21;24;25;26;23;22;28;27;29;30;31;34;32;33;37;35;36;39;38\", \"run_preprocessor_000\": \"MaxAbsScaler;MaxAbsScaler;MaxAbsScaler;MaxAbsScaler;StandardScalerWrapper;StandardScalerWrapper;SparseNormalizer;SparseNormalizer;RobustScaler;MinMaxScaler;StandardScalerWrapper;StandardScalerWrapper;StandardScalerWrapper;MinMaxScaler;SparseNormalizer;MinMaxScaler;RobustScaler;SparseNormalizer;SparseNormalizer;MaxAbsScaler;StandardScalerWrapper;StandardScalerWrapper;StandardScalerWrapper;StandardScalerWrapper;StandardScalerWrapper;MaxAbsScaler;MaxAbsScaler;StandardScalerWrapper;StandardScalerWrapper;RobustScaler;MinMaxScaler;MaxAbsScaler;StandardScalerWrapper;StandardScalerWrapper;RobustScaler;;PCA;;;\", \"run_algorithm_000\": \"LightGBM;XGBoostClassifier;ExtremeRandomTrees;RandomForest;LightGBM;KNN;XGBoostClassifier;RandomForest;KNN;RandomForest;LogisticRegression;SVM;XGBoostClassifier;ExtremeRandomTrees;KNN;ExtremeRandomTrees;ExtremeRandomTrees;LightGBM;XGBoostClassifier;ExtremeRandomTrees;XGBoostClassifier;RandomForest;LightGBM;ExtremeRandomTrees;XGBoostClassifier;LogisticRegression;LightGBM;XGBoostClassifier;XGBoostClassifier;LightGBM;LightGBM;GradientBoosting;LightGBM;RandomForest;RandomForest;;LightGBM;;StackEnsemble;VotingEnsemble\", \"dynamic_allowlisting_iterations\": \"<24>;<30>;<35>;\", \"_aml_system_azureml.automl_early_exit_message\": \"No scores improved over last 10 iterations, so experiment stopped early. This early stopping behavior can be disabled by setting enable_early_stopping = False in AutoMLConfig for notebook/python SDK runs.\", \"automl_best_child_run_id\": \"AutoML_72024c89-fcd5-47e9-b812-3889f402a6be_38\", \"model_explain_best_run_child_id\": \"AutoML_72024c89-fcd5-47e9-b812-3889f402a6be_38\"}, \"end_time_utc\": \"2023-05-08T09:01:43.823901Z\", \"status\": \"Completed\", \"log_files\": {}, \"log_groups\": [], \"run_duration\": \"0:17:28\", \"run_number\": \"1683535455\", \"run_queued_details\": {\"status\": \"Completed\", \"details\": null}}, \"child_runs\": [{\"run_id\": \"AutoML_72024c89-fcd5-47e9-b812-3889f402a6be_setup\", \"run_number\": 1683535468, \"metric\": null, \"status\": \"Completed\", \"run_type\": \"azureml.scriptrun\", \"training_percent\": null, \"start_time\": \"2023-05-08T08:47:11.697101Z\", \"end_time\": \"2023-05-08T08:49:06.726681Z\", \"created_time\": \"2023-05-08T08:44:28.768707Z\", \"created_time_dt\": \"2023-05-08T08:44:28.768707Z\", \"duration\": \"0:04:37\", \"iteration\": null, \"goal\": null, \"run_name\": \"Completed\", \"run_properties\": null}, {\"run_id\": \"AutoML_72024c89-fcd5-47e9-b812-3889f402a6be_featurize\", \"run_number\": 1683535747, \"metric\": null, \"status\": \"Completed\", \"run_type\": \"automl.featurization\", \"training_percent\": null, \"start_time\": \"2023-05-08T08:49:07.269971Z\", \"end_time\": \"2023-05-08T08:49:52.192764Z\", \"created_time\": \"2023-05-08T08:49:07.010407Z\", \"created_time_dt\": \"2023-05-08T08:49:07.010407Z\", \"duration\": \"0:00:45\", \"iteration\": null, \"goal\": null, \"run_name\": \"Completed\", \"run_properties\": null}, {\"run_id\": \"AutoML_72024c89-fcd5-47e9-b812-3889f402a6be_0\", \"run_number\": 1683535793, \"metric\": null, \"status\": \"Completed\", \"run_type\": null, \"training_percent\": \"100\", \"start_time\": \"2023-05-08T08:50:11.170761Z\", \"end_time\": \"2023-05-08T08:50:27.888144Z\", \"created_time\": \"2023-05-08T08:49:53.179418Z\", \"created_time_dt\": \"2023-05-08T08:49:53.179418Z\", \"duration\": \"0:00:34\", \"iteration\": \"0\", \"goal\": \"AUC_weighted_max\", \"run_name\": \"MaxAbsScaler, LightGBM\", \"run_properties\": \"copy=True\", \"primary_metric\": 0.99472091, \"best_metric\": 0.99472091}, {\"run_id\": \"AutoML_72024c89-fcd5-47e9-b812-3889f402a6be_worker_0\", \"run_number\": 1683535794, \"metric\": null, \"status\": \"Completed\", \"run_type\": \"azureml.scriptrun\", \"training_percent\": null, \"start_time\": \"2023-05-08T08:50:01.2483Z\", \"end_time\": \"2023-05-08T08:51:16.092907Z\", \"created_time\": \"2023-05-08T08:49:54.666622Z\", \"created_time_dt\": \"2023-05-08T08:49:54.666622Z\", \"duration\": \"0:01:21\", \"iteration\": null, \"goal\": null, \"run_name\": \"Completed\", \"run_properties\": null}, {\"run_id\": \"AutoML_72024c89-fcd5-47e9-b812-3889f402a6be_5\", \"run_number\": 1683535795, \"metric\": null, \"status\": \"Completed\", \"run_type\": null, \"training_percent\": \"100\", \"start_time\": \"2023-05-08T08:51:43.678689Z\", \"end_time\": \"2023-05-08T08:51:55.385397Z\", \"created_time\": \"2023-05-08T08:49:55.261093Z\", \"created_time_dt\": \"2023-05-08T08:49:55.261093Z\", \"duration\": \"0:02:00\", \"iteration\": \"5\", \"goal\": \"AUC_weighted_max\", \"run_name\": \"StandardScalerWrapper, KNN\", \"run_properties\": \"copy=True, with_mean=True, with_std=False\", \"primary_metric\": 0.89882357, \"best_metric\": 0.99472091}, {\"run_id\": \"AutoML_72024c89-fcd5-47e9-b812-3889f402a6be_worker_1\", \"run_number\": 1683535796, \"metric\": null, \"status\": \"Completed\", \"run_type\": \"azureml.scriptrun\", \"training_percent\": null, \"start_time\": \"2023-05-08T08:51:19.770354Z\", \"end_time\": \"2023-05-08T08:52:31.933819Z\", \"created_time\": \"2023-05-08T08:49:56.457137Z\", \"created_time_dt\": \"2023-05-08T08:49:56.457137Z\", \"duration\": \"0:02:35\", \"iteration\": null, \"goal\": null, \"run_name\": \"Completed\", \"run_properties\": null}, {\"run_id\": \"AutoML_72024c89-fcd5-47e9-b812-3889f402a6be_10\", \"run_number\": 1683535797, \"metric\": null, \"status\": \"Completed\", \"run_type\": null, \"training_percent\": \"100\", \"start_time\": \"2023-05-08T08:53:20.781605Z\", \"end_time\": \"2023-05-08T08:53:32.643494Z\", \"created_time\": \"2023-05-08T08:49:57.400358Z\", \"created_time_dt\": \"2023-05-08T08:49:57.400358Z\", \"duration\": \"0:03:35\", \"iteration\": \"10\", \"goal\": \"AUC_weighted_max\", \"run_name\": \"StandardScalerWrapper, LogisticRegression\", \"run_properties\": \"copy=True, with_mean=True, with_std=True\", \"primary_metric\": 0.98314509, \"best_metric\": 0.99472091}, {\"run_id\": \"AutoML_72024c89-fcd5-47e9-b812-3889f402a6be_worker_2\", \"run_number\": 1683535798, \"metric\": null, \"status\": \"Completed\", \"run_type\": \"azureml.scriptrun\", \"training_percent\": null, \"start_time\": \"2023-05-08T08:52:35.739958Z\", \"end_time\": \"2023-05-08T08:53:53.624834Z\", \"created_time\": \"2023-05-08T08:49:58.038751Z\", \"created_time_dt\": \"2023-05-08T08:49:58.038751Z\", \"duration\": \"0:03:55\", \"iteration\": null, \"goal\": null, \"run_name\": \"Completed\", \"run_properties\": null}, {\"run_id\": \"AutoML_72024c89-fcd5-47e9-b812-3889f402a6be_worker_3\", \"run_number\": 1683535799, \"metric\": null, \"status\": \"Completed\", \"run_type\": \"azureml.scriptrun\", \"training_percent\": null, \"start_time\": \"2023-05-08T08:52:44.455617Z\", \"end_time\": \"2023-05-08T08:55:40.932072Z\", \"created_time\": \"2023-05-08T08:49:59.750018Z\", \"created_time_dt\": \"2023-05-08T08:49:59.750018Z\", \"duration\": \"0:05:41\", \"iteration\": null, \"goal\": null, \"run_name\": \"Completed\", \"run_properties\": null}, {\"run_id\": \"AutoML_72024c89-fcd5-47e9-b812-3889f402a6be_17\", \"run_number\": 1683535800, \"metric\": null, \"status\": \"Completed\", \"run_type\": null, \"training_percent\": \"100\", \"start_time\": \"2023-05-08T08:54:50.231079Z\", \"end_time\": \"2023-05-08T08:55:06.969044Z\", \"created_time\": \"2023-05-08T08:50:00.371404Z\", \"created_time_dt\": \"2023-05-08T08:50:00.371404Z\", \"duration\": \"0:05:06\", \"iteration\": \"17\", \"goal\": \"AUC_weighted_max\", \"run_name\": \"MinMaxScaler, ExtremeRandomTrees\", \"run_properties\": \"copy=True, feature_range=(0, 1\", \"primary_metric\": 0.99026811, \"best_metric\": 0.99472091}, {\"run_id\": \"AutoML_72024c89-fcd5-47e9-b812-3889f402a6be_worker_4\", \"run_number\": 1683535801, \"metric\": null, \"status\": \"Completed\", \"run_type\": \"azureml.scriptrun\", \"training_percent\": null, \"start_time\": \"2023-05-08T08:52:43.280075Z\", \"end_time\": \"2023-05-08T08:55:51.743392Z\", \"created_time\": \"2023-05-08T08:50:01.424392Z\", \"created_time_dt\": \"2023-05-08T08:50:01.424392Z\", \"duration\": \"0:05:50\", \"iteration\": null, \"goal\": null, \"run_name\": \"Completed\", \"run_properties\": null}, {\"run_id\": \"AutoML_72024c89-fcd5-47e9-b812-3889f402a6be_20\", \"run_number\": 1683536110, \"metric\": null, \"status\": \"Completed\", \"run_type\": \"azureml.scriptrun\", \"training_percent\": \"100\", \"start_time\": \"2023-05-08T08:55:23.21619Z\", \"end_time\": \"2023-05-08T08:55:55.790758Z\", \"created_time\": \"2023-05-08T08:55:10.004646Z\", \"created_time_dt\": \"2023-05-08T08:55:10.004646Z\", \"duration\": \"0:00:45\", \"iteration\": \"20\", \"goal\": \"AUC_weighted_max\", \"run_name\": \"StandardScalerWrapper, XGBoostClassifier\", \"run_properties\": \"copy=True, with_mean=False, with_std=False\", \"primary_metric\": 0.99143067, \"best_metric\": 0.99472091}, {\"run_id\": \"AutoML_72024c89-fcd5-47e9-b812-3889f402a6be_23\", \"run_number\": 1683536145, \"metric\": null, \"status\": \"Completed\", \"run_type\": \"azureml.scriptrun\", \"training_percent\": \"100\", \"start_time\": \"2023-05-08T08:55:56.601042Z\", \"end_time\": \"2023-05-08T08:57:32.55914Z\", \"created_time\": \"2023-05-08T08:55:45.219367Z\", \"created_time_dt\": \"2023-05-08T08:55:45.219367Z\", \"duration\": \"0:01:47\", \"iteration\": \"23\", \"goal\": \"AUC_weighted_max\", \"run_name\": \"MaxAbsScaler, LogisticRegression\", \"run_properties\": \"copy=True\", \"primary_metric\": 0.98490476, \"best_metric\": 0.99472091}, {\"run_id\": \"AutoML_72024c89-fcd5-47e9-b812-3889f402a6be_24\", \"run_number\": 1683536159, \"metric\": null, \"status\": \"Completed\", \"run_type\": \"azureml.scriptrun\", \"training_percent\": \"100\", \"start_time\": \"2023-05-08T08:56:10.611424Z\", \"end_time\": \"2023-05-08T08:56:45.232948Z\", \"created_time\": \"2023-05-08T08:55:59.234188Z\", \"created_time_dt\": \"2023-05-08T08:55:59.234188Z\", \"duration\": \"0:00:45\", \"iteration\": \"24\", \"goal\": \"AUC_weighted_max\", \"run_name\": \"StandardScalerWrapper, LightGBM\", \"run_properties\": \"copy=True, with_mean=True, with_std=True\", \"primary_metric\": 0.9936811, \"best_metric\": 0.99472091}, {\"run_id\": \"AutoML_72024c89-fcd5-47e9-b812-3889f402a6be_26\", \"run_number\": 1683536195, \"metric\": null, \"status\": \"Completed\", \"run_type\": \"azureml.scriptrun\", \"training_percent\": \"100\", \"start_time\": \"2023-05-08T08:56:49.948735Z\", \"end_time\": \"2023-05-08T08:57:22.795366Z\", \"created_time\": \"2023-05-08T08:56:35.185551Z\", \"created_time_dt\": \"2023-05-08T08:56:35.185551Z\", \"duration\": \"0:00:47\", \"iteration\": \"26\", \"goal\": \"AUC_weighted_max\", \"run_name\": \"StandardScalerWrapper, XGBoostClassifier\", \"run_properties\": \"copy=True, with_mean=False, with_std=False\", \"primary_metric\": 0.9943937, \"best_metric\": 0.99472091}, {\"run_id\": \"AutoML_72024c89-fcd5-47e9-b812-3889f402a6be_27\", \"run_number\": 1683536206, \"metric\": null, \"status\": \"Completed\", \"run_type\": \"azureml.scriptrun\", \"training_percent\": \"100\", \"start_time\": \"2023-05-08T08:57:23.673695Z\", \"end_time\": \"2023-05-08T08:58:06.850687Z\", \"created_time\": \"2023-05-08T08:56:46.503511Z\", \"created_time_dt\": \"2023-05-08T08:56:46.503511Z\", \"duration\": \"0:01:20\", \"iteration\": \"27\", \"goal\": \"AUC_weighted_max\", \"run_name\": \"StandardScalerWrapper, XGBoostClassifier\", \"run_properties\": \"copy=True, with_mean=False, with_std=False\", \"primary_metric\": 0.99264786, \"best_metric\": 0.99472091}, {\"run_id\": \"AutoML_72024c89-fcd5-47e9-b812-3889f402a6be_28\", \"run_number\": 1683536239, \"metric\": null, \"status\": \"Completed\", \"run_type\": \"azureml.scriptrun\", \"training_percent\": \"100\", \"start_time\": \"2023-05-08T08:57:26.219211Z\", \"end_time\": \"2023-05-08T08:57:57.528274Z\", \"created_time\": \"2023-05-08T08:57:19.694592Z\", \"created_time_dt\": \"2023-05-08T08:57:19.694592Z\", \"duration\": \"0:00:37\", \"iteration\": \"28\", \"goal\": \"AUC_weighted_max\", \"run_name\": \"StandardScalerWrapper, XGBoostClassifier\", \"run_properties\": \"copy=True, with_mean=False, with_std=False\", \"primary_metric\": 0.99456015, \"best_metric\": 0.99472091}, {\"run_id\": \"AutoML_72024c89-fcd5-47e9-b812-3889f402a6be_29\", \"run_number\": 1683536244, \"metric\": null, \"status\": \"Completed\", \"run_type\": \"azureml.scriptrun\", \"training_percent\": \"100\", \"start_time\": \"2023-05-08T08:57:35.672464Z\", \"end_time\": \"2023-05-08T08:58:09.787995Z\", \"created_time\": \"2023-05-08T08:57:24.276344Z\", \"created_time_dt\": \"2023-05-08T08:57:24.276344Z\", \"duration\": \"0:00:45\", \"iteration\": \"29\", \"goal\": \"AUC_weighted_max\", \"run_name\": \"RobustScaler, LightGBM\", \"run_properties\": \"copy=True, quantile_range=[25, 75], with_centering=True,\\n             with_scaling=True\", \"primary_metric\": 0.99055333, \"best_metric\": 0.99472091}, {\"run_id\": \"AutoML_72024c89-fcd5-47e9-b812-3889f402a6be_30\", \"run_number\": 1683536254, \"metric\": null, \"status\": \"Completed\", \"run_type\": \"azureml.scriptrun\", \"training_percent\": \"100\", \"start_time\": \"2023-05-08T08:57:47.939324Z\", \"end_time\": \"2023-05-08T08:58:22.0958Z\", \"created_time\": \"2023-05-08T08:57:34.817776Z\", \"created_time_dt\": \"2023-05-08T08:57:34.817776Z\", \"duration\": \"0:00:47\", \"iteration\": \"30\", \"goal\": \"AUC_weighted_max\", \"run_name\": \"MinMaxScaler, LightGBM\", \"run_properties\": \"copy=True, feature_range=(0, 1\", \"primary_metric\": 0.98960321, \"best_metric\": 0.99472091}, {\"run_id\": \"AutoML_72024c89-fcd5-47e9-b812-3889f402a6be_31\", \"run_number\": 1683536264, \"metric\": null, \"status\": \"Completed\", \"run_type\": \"azureml.scriptrun\", \"training_percent\": \"100\", \"start_time\": \"2023-05-08T08:58:02.766928Z\", \"end_time\": \"2023-05-08T08:58:42.063543Z\", \"created_time\": \"2023-05-08T08:57:44.687717Z\", \"created_time_dt\": \"2023-05-08T08:57:44.687717Z\", \"duration\": \"0:00:57\", \"iteration\": \"31\", \"goal\": \"AUC_weighted_max\", \"run_name\": \"MaxAbsScaler, GradientBoosting\", \"run_properties\": \"copy=True\", \"primary_metric\": 0.99065605, \"best_metric\": 0.99472091}, {\"run_id\": \"AutoML_72024c89-fcd5-47e9-b812-3889f402a6be_32\", \"run_number\": 1683536279, \"metric\": null, \"status\": \"Completed\", \"run_type\": \"azureml.scriptrun\", \"training_percent\": \"100\", \"start_time\": \"2023-05-08T08:58:12.158754Z\", \"end_time\": \"2023-05-08T08:59:04.277044Z\", \"created_time\": \"2023-05-08T08:57:59.289299Z\", \"created_time_dt\": \"2023-05-08T08:57:59.289299Z\", \"duration\": \"0:01:04\", \"iteration\": \"32\", \"goal\": \"AUC_weighted_max\", \"run_name\": \"StandardScalerWrapper, RandomForest\", \"run_properties\": \"copy=True, with_mean=True, with_std=False\", \"primary_metric\": 0.98525006, \"best_metric\": 0.99472091}, {\"run_id\": \"AutoML_72024c89-fcd5-47e9-b812-3889f402a6be_33\", \"run_number\": 1683536288, \"metric\": null, \"status\": \"Completed\", \"run_type\": \"azureml.scriptrun\", \"training_percent\": \"100\", \"start_time\": \"2023-05-08T08:58:14.989881Z\", \"end_time\": \"2023-05-08T08:59:04.447469Z\", \"created_time\": \"2023-05-08T08:58:08.260885Z\", \"created_time_dt\": \"2023-05-08T08:58:08.260885Z\", \"duration\": \"0:00:56\", \"iteration\": \"33\", \"goal\": \"AUC_weighted_max\", \"run_name\": \"RobustScaler, RandomForest\", \"run_properties\": \"copy=True, quantile_range=[25, 75], with_centering=True,\\n             with_scaling=False\", \"primary_metric\": 0.98531832, \"best_metric\": 0.99472091}, {\"run_id\": \"AutoML_72024c89-fcd5-47e9-b812-3889f402a6be_34\", \"run_number\": 1683536291, \"metric\": null, \"status\": \"Completed\", \"run_type\": \"azureml.scriptrun\", \"training_percent\": \"100\", \"start_time\": \"2023-05-08T08:58:27.249222Z\", \"end_time\": \"2023-05-08T08:59:02.66488Z\", \"created_time\": \"2023-05-08T08:58:11.303395Z\", \"created_time_dt\": \"2023-05-08T08:58:11.303395Z\", \"duration\": \"0:00:51\", \"iteration\": \"34\", \"goal\": \"AUC_weighted_max\", \"run_name\": \"StandardScalerWrapper, LightGBM\", \"run_properties\": \"copy=True, with_mean=False, with_std=False\", \"primary_metric\": 0.99399051, \"best_metric\": 0.99472091}, {\"run_id\": \"AutoML_72024c89-fcd5-47e9-b812-3889f402a6be_35\", \"run_number\": 1683536304, \"metric\": null, \"status\": \"Canceled\", \"run_type\": \"azureml.scriptrun\", \"training_percent\": \"100\", \"start_time\": \"2023-05-08T08:58:48.153281Z\", \"end_time\": \"2023-05-08T08:59:11.222574Z\", \"created_time\": \"2023-05-08T08:58:24.383779Z\", \"created_time_dt\": \"2023-05-08T08:58:24.383779Z\", \"duration\": \"0:00:46\", \"iteration\": \"35\", \"goal\": \"AUC_weighted_max\", \"run_name\": \"PCA, LightGBM\", \"run_properties\": \"copy=True, iterated_power='auto', n_components=0.9005263157894737,\\n    random_state=None, svd_solver='auto', tol=0.0, whiten=True\", \"primary_metric\": 0.6597149, \"best_metric\": 0.99472091}, {\"run_id\": \"AutoML_72024c89-fcd5-47e9-b812-3889f402a6be_36\", \"run_number\": 1683536323, \"metric\": null, \"status\": \"Canceled\", \"run_type\": \"azureml.scriptrun\", \"training_percent\": \"100\", \"start_time\": \"2023-05-08T08:59:05.784051Z\", \"end_time\": \"2023-05-08T08:59:11.318684Z\", \"created_time\": \"2023-05-08T08:58:43.453145Z\", \"created_time_dt\": \"2023-05-08T08:58:43.453145Z\", \"duration\": \"0:00:27\", \"iteration\": \"36\", \"goal\": null, \"run_name\": \"Canceled\", \"run_properties\": null}, {\"run_id\": \"AutoML_72024c89-fcd5-47e9-b812-3889f402a6be_37\", \"run_number\": 1683536344, \"metric\": null, \"status\": \"Canceled\", \"run_type\": \"azureml.scriptrun\", \"training_percent\": \"100\", \"start_time\": \"2023-05-08T08:59:05.732672Z\", \"end_time\": \"2023-05-08T08:59:06.921617Z\", \"created_time\": \"2023-05-08T08:59:04.259766Z\", \"created_time_dt\": \"2023-05-08T08:59:04.259766Z\", \"duration\": \"0:00:02\", \"iteration\": \"37\", \"goal\": null, \"run_name\": \"Canceled\", \"run_properties\": null}, {\"run_id\": \"AutoML_72024c89-fcd5-47e9-b812-3889f402a6be_38\", \"run_number\": 1683536352, \"metric\": null, \"status\": \"Completed\", \"run_type\": \"azureml.scriptrun\", \"training_percent\": \"100\", \"start_time\": \"2023-05-08T08:59:18.551622Z\", \"end_time\": \"2023-05-08T09:01:42.468459Z\", \"created_time\": \"2023-05-08T08:59:12.039Z\", \"created_time_dt\": \"2023-05-08T08:59:12.039Z\", \"duration\": \"0:02:30\", \"iteration\": \"38\", \"goal\": \"AUC_weighted_max\", \"run_name\": \"VotingEnsemble\", \"run_properties\": \"classification_labels=numpy.array([0, 1]\", \"primary_metric\": 0.99715758, \"best_metric\": 0.99715758}], \"children_metrics\": {\"categories\": [0], \"series\": {\"f1_score_micro\": [{\"categories\": [\"0\", \"5\", \"10\", \"17\", \"20\", \"23\", \"24\", \"26\", \"27\", \"28\", \"29\", \"30\", \"31\", \"32\", \"33\", \"34\", \"35\", \"38\"], \"mode\": \"markers\", \"name\": \"f1_score_micro\", \"stepped\": false, \"type\": \"scatter\", \"data\": [0.9718045112781954, 0.7767230576441102, 0.9453947368421053, 0.963063909774436, 0.9595551378446114, 0.9577067669172932, 0.9665726817042606, 0.968295739348371, 0.9630325814536341, 0.9700814536340852, 0.9594924812030076, 0.9594924812030076, 0.9507205513784461, 0.9402568922305765, 0.9367481203007518, 0.9683270676691729, 0.6554824561403508, 0.9806390977443609]}, {\"categories\": [\"0\", \"5\", \"10\", \"17\", \"20\", \"23\", \"24\", \"26\", \"27\", \"28\", \"29\", \"30\", \"31\", \"32\", \"33\", \"34\", \"35\", \"38\"], \"mode\": \"lines\", \"name\": \"f1_score_micro_max\", \"stepped\": true, \"type\": \"scatter\", \"data\": [0.9718045112781954, 0.9718045112781954, 0.9718045112781954, 0.9718045112781954, 0.9718045112781954, 0.9718045112781954, 0.9718045112781954, 0.9718045112781954, 0.9718045112781954, 0.9718045112781954, 0.9718045112781954, 0.9718045112781954, 0.9718045112781954, 0.9718045112781954, 0.9718045112781954, 0.9718045112781954, 0.9718045112781954, 0.9806390977443609]}], \"average_precision_score_macro\": [{\"categories\": [\"0\", \"5\", \"10\", \"17\", \"20\", \"23\", \"24\", \"26\", \"27\", \"28\", \"29\", \"30\", \"31\", \"32\", \"33\", \"34\", \"35\", \"38\"], \"mode\": \"markers\", \"name\": \"average_precision_score_macro\", \"stepped\": false, \"type\": \"scatter\", \"data\": [0.9950055660415902, 0.8984249777810132, 0.9817545596494577, 0.9896851045111668, 0.9916236335423525, 0.981856854267997, 0.9938035497867872, 0.9945343995496231, 0.9928150722498282, 0.9948912218351527, 0.9910588946019221, 0.9898130594349007, 0.9905258818577481, 0.9851819876170852, 0.9852121860974116, 0.9942136524538814, 0.6535174616322477, 0.9973197531232267]}, {\"categories\": [\"0\", \"5\", \"10\", \"17\", \"20\", \"23\", \"24\", \"26\", \"27\", \"28\", \"29\", \"30\", \"31\", \"32\", \"33\", \"34\", \"35\", \"38\"], \"mode\": \"lines\", \"name\": \"average_precision_score_macro_max\", \"stepped\": true, \"type\": \"scatter\", \"data\": [0.9950055660415902, 0.9950055660415902, 0.9950055660415902, 0.9950055660415902, 0.9950055660415902, 0.9950055660415902, 0.9950055660415902, 0.9950055660415902, 0.9950055660415902, 0.9950055660415902, 0.9950055660415902, 0.9950055660415902, 0.9950055660415902, 0.9950055660415902, 0.9950055660415902, 0.9950055660415902, 0.9950055660415902, 0.9973197531232267]}], \"matthews_correlation\": [{\"categories\": [\"0\", \"5\", \"10\", \"17\", \"20\", \"23\", \"24\", \"26\", \"27\", \"28\", \"29\", \"30\", \"31\", \"32\", \"33\", \"34\", \"35\", \"38\"], \"mode\": \"markers\", \"name\": \"matthews_correlation\", \"stepped\": false, \"type\": \"scatter\", \"data\": [0.9402815986468303, 0.5354254511119843, 0.8848467323151057, 0.9203352713768075, 0.9142504724849345, 0.9105916851511138, 0.929361031171654, 0.9319455968514531, 0.9216335464524514, 0.9367321936640524, 0.9134249756317002, 0.9126938848158446, 0.8964289288798357, 0.875160598485724, 0.8679369487663863, 0.9330928475441645, 0.20266755621704208, 0.9599511929248765]}, {\"categories\": [\"0\", \"5\", \"10\", \"17\", \"20\", \"23\", \"24\", \"26\", \"27\", \"28\", \"29\", \"30\", \"31\", \"32\", \"33\", \"34\", \"35\", \"38\"], \"mode\": \"lines\", \"name\": \"matthews_correlation_max\", \"stepped\": true, \"type\": \"scatter\", \"data\": [0.9402815986468303, 0.9402815986468303, 0.9402815986468303, 0.9402815986468303, 0.9402815986468303, 0.9402815986468303, 0.9402815986468303, 0.9402815986468303, 0.9402815986468303, 0.9402815986468303, 0.9402815986468303, 0.9402815986468303, 0.9402815986468303, 0.9402815986468303, 0.9402815986468303, 0.9402815986468303, 0.9402815986468303, 0.9599511929248765]}], \"f1_score_weighted\": [{\"categories\": [\"0\", \"5\", \"10\", \"17\", \"20\", \"23\", \"24\", \"26\", \"27\", \"28\", \"29\", \"30\", \"31\", \"32\", \"33\", \"34\", \"35\", \"38\"], \"mode\": \"markers\", \"name\": \"f1_score_weighted\", \"stepped\": false, \"type\": \"scatter\", \"data\": [0.971606492256825, 0.7504802419990477, 0.9455367868927208, 0.9630194453653516, 0.9594035150702434, 0.9576792975822069, 0.9663246400432118, 0.9682505658780028, 0.9629330785946877, 0.9698880552413687, 0.9591064585010087, 0.9593282514094283, 0.949990193263921, 0.9405955894349647, 0.9370562467254635, 0.9681575648956404, 0.6013900639741034, 0.9805604598289495]}, {\"categories\": [\"0\", \"5\", \"10\", \"17\", \"20\", \"23\", \"24\", \"26\", \"27\", \"28\", \"29\", \"30\", \"31\", \"32\", \"33\", \"34\", \"35\", \"38\"], \"mode\": \"lines\", \"name\": \"f1_score_weighted_max\", \"stepped\": true, \"type\": \"scatter\", \"data\": [0.971606492256825, 0.971606492256825, 0.971606492256825, 0.971606492256825, 0.971606492256825, 0.971606492256825, 0.971606492256825, 0.971606492256825, 0.971606492256825, 0.971606492256825, 0.971606492256825, 0.971606492256825, 0.971606492256825, 0.971606492256825, 0.971606492256825, 0.971606492256825, 0.971606492256825, 0.9805604598289495]}], \"precision_score_weighted\": [{\"categories\": [\"0\", \"5\", \"10\", \"17\", \"20\", \"23\", \"24\", \"26\", \"27\", \"28\", \"29\", \"30\", \"31\", \"32\", \"33\", \"34\", \"35\", \"38\"], \"mode\": \"markers\", \"name\": \"precision_score_weighted\", \"stepped\": false, \"type\": \"scatter\", \"data\": [0.9727408024985478, 0.8225123552186933, 0.9469747095043793, 0.9639328638051549, 0.9616082661679011, 0.9587781328946743, 0.9682495666377247, 0.9692029966601879, 0.9649284963067404, 0.971459560756038, 0.9612754082837608, 0.9605098462248739, 0.9537109120378704, 0.9443599545552234, 0.9409631988993965, 0.9697283754641788, 0.6600649844467164, 0.9817039608102791]}, {\"categories\": [\"0\", \"5\", \"10\", \"17\", \"20\", \"23\", \"24\", \"26\", \"27\", \"28\", \"29\", \"30\", \"31\", \"32\", \"33\", \"34\", \"35\", \"38\"], \"mode\": \"lines\", \"name\": \"precision_score_weighted_max\", \"stepped\": true, \"type\": \"scatter\", \"data\": [0.9727408024985478, 0.9727408024985478, 0.9727408024985478, 0.9727408024985478, 0.9727408024985478, 0.9727408024985478, 0.9727408024985478, 0.9727408024985478, 0.9727408024985478, 0.9727408024985478, 0.9727408024985478, 0.9727408024985478, 0.9727408024985478, 0.9727408024985478, 0.9727408024985478, 0.9727408024985478, 0.9727408024985478, 0.9817039608102791]}], \"accuracy\": [{\"categories\": [\"0\", \"5\", \"10\", \"17\", \"20\", \"23\", \"24\", \"26\", \"27\", \"28\", \"29\", \"30\", \"31\", \"32\", \"33\", \"34\", \"35\", \"38\"], \"mode\": \"markers\", \"name\": \"accuracy\", \"stepped\": false, \"type\": \"scatter\", \"data\": [0.9718045112781954, 0.7767230576441102, 0.9453947368421053, 0.963063909774436, 0.9595551378446114, 0.9577067669172932, 0.9665726817042606, 0.968295739348371, 0.9630325814536341, 0.9700814536340852, 0.9594924812030076, 0.9594924812030076, 0.9507205513784461, 0.9402568922305765, 0.9367481203007518, 0.9683270676691729, 0.6554824561403508, 0.9806390977443609]}, {\"categories\": [\"0\", \"5\", \"10\", \"17\", \"20\", \"23\", \"24\", \"26\", \"27\", \"28\", \"29\", \"30\", \"31\", \"32\", \"33\", \"34\", \"35\", \"38\"], \"mode\": \"lines\", \"name\": \"accuracy_max\", \"stepped\": true, \"type\": \"scatter\", \"data\": [0.9718045112781954, 0.9718045112781954, 0.9718045112781954, 0.9718045112781954, 0.9718045112781954, 0.9718045112781954, 0.9718045112781954, 0.9718045112781954, 0.9718045112781954, 0.9718045112781954, 0.9718045112781954, 0.9718045112781954, 0.9718045112781954, 0.9718045112781954, 0.9718045112781954, 0.9718045112781954, 0.9718045112781954, 0.9806390977443609]}], \"average_precision_score_micro\": [{\"categories\": [\"0\", \"5\", \"10\", \"17\", \"20\", \"23\", \"24\", \"26\", \"27\", \"28\", \"29\", \"30\", \"31\", \"32\", \"33\", \"34\", \"35\", \"38\"], \"mode\": \"markers\", \"name\": \"average_precision_score_micro\", \"stepped\": false, \"type\": \"scatter\", \"data\": [0.9947184153763621, 0.8847105888113387, 0.9823587651630072, 0.9900846139840358, 0.9922077318641085, 0.98385452056588, 0.9938803944554306, 0.995262961686762, 0.9930056548173617, 0.9948613009409015, 0.9912505811409072, 0.9894778353741082, 0.9880721719278949, 0.9848306893586918, 0.9853032439482329, 0.993626261901585, 0.6922779571805876, 0.9966146108956895]}, {\"categories\": [\"0\", \"5\", \"10\", \"17\", \"20\", \"23\", \"24\", \"26\", \"27\", \"28\", \"29\", \"30\", \"31\", \"32\", \"33\", \"34\", \"35\", \"38\"], \"mode\": \"lines\", \"name\": \"average_precision_score_micro_max\", \"stepped\": true, \"type\": \"scatter\", \"data\": [0.9947184153763621, 0.9947184153763621, 0.9947184153763621, 0.9947184153763621, 0.9947184153763621, 0.9947184153763621, 0.9947184153763621, 0.995262961686762, 0.995262961686762, 0.995262961686762, 0.995262961686762, 0.995262961686762, 0.995262961686762, 0.995262961686762, 0.995262961686762, 0.995262961686762, 0.995262961686762, 0.9966146108956895]}], \"precision_score_macro\": [{\"categories\": [\"0\", \"5\", \"10\", \"17\", \"20\", \"23\", \"24\", \"26\", \"27\", \"28\", \"29\", \"30\", \"31\", \"32\", \"33\", \"34\", \"35\", \"38\"], \"mode\": \"markers\", \"name\": \"precision_score_macro\", \"stepped\": false, \"type\": \"scatter\", \"data\": [0.9739340546210908, 0.8461233241594346, 0.939779562586468, 0.9602558466822801, 0.9592932843954974, 0.9538385225885225, 0.9697340606090608, 0.9661119739641869, 0.9620335246357377, 0.9726670698041666, 0.9615249705218583, 0.9585105068197175, 0.9557080184987161, 0.9329004258865098, 0.9292914203221662, 0.9703497741826084, 0.6507584837315146, 0.9816561703403808]}, {\"categories\": [\"0\", \"5\", \"10\", \"17\", \"20\", \"23\", \"24\", \"26\", \"27\", \"28\", \"29\", \"30\", \"31\", \"32\", \"33\", \"34\", \"35\", \"38\"], \"mode\": \"lines\", \"name\": \"precision_score_macro_max\", \"stepped\": true, \"type\": \"scatter\", \"data\": [0.9739340546210908, 0.9739340546210908, 0.9739340546210908, 0.9739340546210908, 0.9739340546210908, 0.9739340546210908, 0.9739340546210908, 0.9739340546210908, 0.9739340546210908, 0.9739340546210908, 0.9739340546210908, 0.9739340546210908, 0.9739340546210908, 0.9739340546210908, 0.9739340546210908, 0.9739340546210908, 0.9739340546210908, 0.9816561703403808]}], \"recall_score_macro\": [{\"categories\": [\"0\", \"5\", \"10\", \"17\", \"20\", \"23\", \"24\", \"26\", \"27\", \"28\", \"29\", \"30\", \"31\", \"32\", \"33\", \"34\", \"35\", \"38\"], \"mode\": \"markers\", \"name\": \"recall_score_macro\", \"stepped\": false, \"type\": \"scatter\", \"data\": [0.9664923021352049, 0.7091012051510772, 0.9451645830002237, 0.9601673191449034, 0.9551255825699189, 0.9568316014743073, 0.9598236483616919, 0.9658784427217559, 0.9597549323335397, 0.964204411477749, 0.952138157839687, 0.9542936302580699, 0.9412824842118322, 0.9424705906928258, 0.9388260894140533, 0.9629287271764893, 0.5699916921095844, 0.9783720321492062]}, {\"categories\": [\"0\", \"5\", \"10\", \"17\", \"20\", \"23\", \"24\", \"26\", \"27\", \"28\", \"29\", \"30\", \"31\", \"32\", \"33\", \"34\", \"35\", \"38\"], \"mode\": \"lines\", \"name\": \"recall_score_macro_max\", \"stepped\": true, \"type\": \"scatter\", \"data\": [0.9664923021352049, 0.9664923021352049, 0.9664923021352049, 0.9664923021352049, 0.9664923021352049, 0.9664923021352049, 0.9664923021352049, 0.9664923021352049, 0.9664923021352049, 0.9664923021352049, 0.9664923021352049, 0.9664923021352049, 0.9664923021352049, 0.9664923021352049, 0.9664923021352049, 0.9664923021352049, 0.9664923021352049, 0.9783720321492062]}], \"log_loss\": [{\"categories\": [\"0\", \"5\", \"10\", \"17\", \"20\", \"23\", \"24\", \"26\", \"27\", \"28\", \"29\", \"30\", \"31\", \"32\", \"33\", \"34\", \"35\", \"38\"], \"mode\": \"markers\", \"name\": \"log_loss\", \"stepped\": false, \"type\": \"scatter\", \"data\": [0.11582809228903432, 0.4312858654010957, 0.820816288009593, 0.17718191072516298, 0.14079046218631014, 0.31450683109435856, 0.08995852227516324, 0.0843032540311274, 0.11203122763510698, 0.0829395889769418, 0.11857874021771422, 0.15052715893315885, 0.2360933229346808, 0.1709650107432311, 0.163111402251397, 0.09767795727475656, 0.62173161050923, 0.08682214970430088]}, {\"categories\": [\"0\", \"5\", \"10\", \"17\", \"20\", \"23\", \"24\", \"26\", \"27\", \"28\", \"29\", \"30\", \"31\", \"32\", \"33\", \"34\", \"35\", \"38\"], \"mode\": \"lines\", \"name\": \"log_loss_min\", \"stepped\": true, \"type\": \"scatter\", \"data\": [0.11582809228903432, 0.11582809228903432, 0.11582809228903432, 0.11582809228903432, 0.11582809228903432, 0.11582809228903432, 0.08995852227516324, 0.0843032540311274, 0.0843032540311274, 0.0829395889769418, 0.0829395889769418, 0.0829395889769418, 0.0829395889769418, 0.0829395889769418, 0.0829395889769418, 0.0829395889769418, 0.0829395889769418, 0.0829395889769418]}], \"weighted_accuracy\": [{\"categories\": [\"0\", \"5\", \"10\", \"17\", \"20\", \"23\", \"24\", \"26\", \"27\", \"28\", \"29\", \"30\", \"31\", \"32\", \"33\", \"34\", \"35\", \"38\"], \"mode\": \"markers\", \"name\": \"weighted_accuracy\", \"stepped\": false, \"type\": \"scatter\", \"data\": [0.9759957863507023, 0.8326495246882502, 0.9459142221934826, 0.9654099819281692, 0.9631782736939088, 0.9587091340938377, 0.9720133259217419, 0.9701082753788484, 0.9656520902550945, 0.9747337515252006, 0.9657396035300237, 0.9640312815086742, 0.9586456818273288, 0.9383203983821458, 0.9349376090646384, 0.9726220486320507, 0.7260783936709708, 0.9827143255560973]}, {\"categories\": [\"0\", \"5\", \"10\", \"17\", \"20\", \"23\", \"24\", \"26\", \"27\", \"28\", \"29\", \"30\", \"31\", \"32\", \"33\", \"34\", \"35\", \"38\"], \"mode\": \"lines\", \"name\": \"weighted_accuracy_max\", \"stepped\": true, \"type\": \"scatter\", \"data\": [0.9759957863507023, 0.9759957863507023, 0.9759957863507023, 0.9759957863507023, 0.9759957863507023, 0.9759957863507023, 0.9759957863507023, 0.9759957863507023, 0.9759957863507023, 0.9759957863507023, 0.9759957863507023, 0.9759957863507023, 0.9759957863507023, 0.9759957863507023, 0.9759957863507023, 0.9759957863507023, 0.9759957863507023, 0.9827143255560973]}], \"recall_score_weighted\": [{\"categories\": [\"0\", \"5\", \"10\", \"17\", \"20\", \"23\", \"24\", \"26\", \"27\", \"28\", \"29\", \"30\", \"31\", \"32\", \"33\", \"34\", \"35\", \"38\"], \"mode\": \"markers\", \"name\": \"recall_score_weighted\", \"stepped\": false, \"type\": \"scatter\", \"data\": [0.9718045112781954, 0.7767230576441102, 0.9453947368421053, 0.963063909774436, 0.9595551378446114, 0.9577067669172932, 0.9665726817042606, 0.968295739348371, 0.9630325814536341, 0.9700814536340852, 0.9594924812030076, 0.9594924812030076, 0.9507205513784461, 0.9402568922305765, 0.9367481203007518, 0.9683270676691729, 0.6554824561403508, 0.9806390977443609]}, {\"categories\": [\"0\", \"5\", \"10\", \"17\", \"20\", \"23\", \"24\", \"26\", \"27\", \"28\", \"29\", \"30\", \"31\", \"32\", \"33\", \"34\", \"35\", \"38\"], \"mode\": \"lines\", \"name\": \"recall_score_weighted_max\", \"stepped\": true, \"type\": \"scatter\", \"data\": [0.9718045112781954, 0.9718045112781954, 0.9718045112781954, 0.9718045112781954, 0.9718045112781954, 0.9718045112781954, 0.9718045112781954, 0.9718045112781954, 0.9718045112781954, 0.9718045112781954, 0.9718045112781954, 0.9718045112781954, 0.9718045112781954, 0.9718045112781954, 0.9718045112781954, 0.9718045112781954, 0.9718045112781954, 0.9806390977443609]}], \"average_precision_score_weighted\": [{\"categories\": [\"0\", \"5\", \"10\", \"17\", \"20\", \"23\", \"24\", \"26\", \"27\", \"28\", \"29\", \"30\", \"31\", \"32\", \"33\", \"34\", \"35\", \"38\"], \"mode\": \"markers\", \"name\": \"average_precision_score_weighted\", \"stepped\": false, \"type\": \"scatter\", \"data\": [0.9952243635724649, 0.9094913592398175, 0.982132792723674, 0.9902531781244879, 0.992436349017914, 0.9822613323082152, 0.9942788729108635, 0.994812302486707, 0.9933734830066191, 0.995098336888178, 0.991944869782482, 0.9906662984835874, 0.991546926791669, 0.9865192581782084, 0.986649593934998, 0.9945922438538866, 0.679715958761548, 0.9974336038937496]}, {\"categories\": [\"0\", \"5\", \"10\", \"17\", \"20\", \"23\", \"24\", \"26\", \"27\", \"28\", \"29\", \"30\", \"31\", \"32\", \"33\", \"34\", \"35\", \"38\"], \"mode\": \"lines\", \"name\": \"average_precision_score_weighted_max\", \"stepped\": true, \"type\": \"scatter\", \"data\": [0.9952243635724649, 0.9952243635724649, 0.9952243635724649, 0.9952243635724649, 0.9952243635724649, 0.9952243635724649, 0.9952243635724649, 0.9952243635724649, 0.9952243635724649, 0.9952243635724649, 0.9952243635724649, 0.9952243635724649, 0.9952243635724649, 0.9952243635724649, 0.9952243635724649, 0.9952243635724649, 0.9952243635724649, 0.9974336038937496]}], \"AUC_macro\": [{\"categories\": [\"0\", \"5\", \"10\", \"17\", \"20\", \"23\", \"24\", \"26\", \"27\", \"28\", \"29\", \"30\", \"31\", \"32\", \"33\", \"34\", \"35\", \"38\"], \"mode\": \"markers\", \"name\": \"AUC_macro\", \"stepped\": false, \"type\": \"scatter\", \"data\": [0.9947209139504537, 0.8988235656576524, 0.9831994602873759, 0.9902681068623791, 0.9914306729952138, 0.9848400569116682, 0.9936810958515221, 0.994393700254537, 0.992647862982708, 0.9945601454408999, 0.9905533339627863, 0.9896032108863253, 0.9906560451334064, 0.9852500628623941, 0.9853183220609916, 0.9939905064865735, 0.6597148953408322, 0.9971575796326435]}, {\"categories\": [\"0\", \"5\", \"10\", \"17\", \"20\", \"23\", \"24\", \"26\", \"27\", \"28\", \"29\", \"30\", \"31\", \"32\", \"33\", \"34\", \"35\", \"38\"], \"mode\": \"lines\", \"name\": \"AUC_macro_max\", \"stepped\": true, \"type\": \"scatter\", \"data\": [0.9947209139504537, 0.9947209139504537, 0.9947209139504537, 0.9947209139504537, 0.9947209139504537, 0.9947209139504537, 0.9947209139504537, 0.9947209139504537, 0.9947209139504537, 0.9947209139504537, 0.9947209139504537, 0.9947209139504537, 0.9947209139504537, 0.9947209139504537, 0.9947209139504537, 0.9947209139504537, 0.9947209139504537, 0.9971575796326435]}], \"norm_macro_recall\": [{\"categories\": [\"0\", \"5\", \"10\", \"17\", \"20\", \"23\", \"24\", \"26\", \"27\", \"28\", \"29\", \"30\", \"31\", \"32\", \"33\", \"34\", \"35\", \"38\"], \"mode\": \"markers\", \"name\": \"norm_macro_recall\", \"stepped\": false, \"type\": \"scatter\", \"data\": [0.9329846042704097, 0.4182024103021546, 0.8903291660004472, 0.920334638289807, 0.9102511651398377, 0.9136632029486144, 0.9196472967233837, 0.9317568854435118, 0.9195098646670793, 0.9284088229554982, 0.9042763156793743, 0.90858726051614, 0.882564968423664, 0.8849411813856515, 0.8776521788281068, 0.9258574543529787, 0.14126543550122034, 0.9567440642984121]}, {\"categories\": [\"0\", \"5\", \"10\", \"17\", \"20\", \"23\", \"24\", \"26\", \"27\", \"28\", \"29\", \"30\", \"31\", \"32\", \"33\", \"34\", \"35\", \"38\"], \"mode\": \"lines\", \"name\": \"norm_macro_recall_max\", \"stepped\": true, \"type\": \"scatter\", \"data\": [0.9329846042704097, 0.9329846042704097, 0.9329846042704097, 0.9329846042704097, 0.9329846042704097, 0.9329846042704097, 0.9329846042704097, 0.9329846042704097, 0.9329846042704097, 0.9329846042704097, 0.9329846042704097, 0.9329846042704097, 0.9329846042704097, 0.9329846042704097, 0.9329846042704097, 0.9329846042704097, 0.9329846042704097, 0.9567440642984121]}], \"AUC_weighted\": [{\"categories\": [\"0\", \"5\", \"10\", \"17\", \"20\", \"23\", \"24\", \"26\", \"27\", \"28\", \"29\", \"30\", \"31\", \"32\", \"33\", \"34\", \"35\", \"38\"], \"mode\": \"markers\", \"name\": \"AUC_weighted\", \"stepped\": false, \"type\": \"scatter\", \"data\": [0.9947209139504535, 0.8988235656576524, 0.9831450855106294, 0.9902681068623792, 0.9914306729952138, 0.984904756704629, 0.9936810958515221, 0.994393700254537, 0.992647862982708, 0.9945601454408999, 0.9905533339627863, 0.9896032108863253, 0.9906560451334064, 0.9852500628623939, 0.9853183220609913, 0.9939905064865735, 0.659714895340832, 0.9971575796326435]}, {\"categories\": [\"0\", \"5\", \"10\", \"17\", \"20\", \"23\", \"24\", \"26\", \"27\", \"28\", \"29\", \"30\", \"31\", \"32\", \"33\", \"34\", \"35\", \"38\"], \"mode\": \"lines\", \"name\": \"AUC_weighted_max\", \"stepped\": true, \"type\": \"scatter\", \"data\": [0.9947209139504535, 0.9947209139504535, 0.9947209139504535, 0.9947209139504535, 0.9947209139504535, 0.9947209139504535, 0.9947209139504535, 0.9947209139504535, 0.9947209139504535, 0.9947209139504535, 0.9947209139504535, 0.9947209139504535, 0.9947209139504535, 0.9947209139504535, 0.9947209139504535, 0.9947209139504535, 0.9947209139504535, 0.9971575796326435]}], \"balanced_accuracy\": [{\"categories\": [\"0\", \"5\", \"10\", \"17\", \"20\", \"23\", \"24\", \"26\", \"27\", \"28\", \"29\", \"30\", \"31\", \"32\", \"33\", \"34\", \"35\", \"38\"], \"mode\": \"markers\", \"name\": \"balanced_accuracy\", \"stepped\": false, \"type\": \"scatter\", \"data\": [0.9664923021352049, 0.7091012051510772, 0.9451645830002237, 0.9601673191449034, 0.9551255825699189, 0.9568316014743073, 0.9598236483616919, 0.9658784427217559, 0.9597549323335397, 0.964204411477749, 0.952138157839687, 0.9542936302580699, 0.9412824842118322, 0.9424705906928258, 0.9388260894140533, 0.9629287271764893, 0.5699916921095844, 0.9783720321492062]}, {\"categories\": [\"0\", \"5\", \"10\", \"17\", \"20\", \"23\", \"24\", \"26\", \"27\", \"28\", \"29\", \"30\", \"31\", \"32\", \"33\", \"34\", \"35\", \"38\"], \"mode\": \"lines\", \"name\": \"balanced_accuracy_max\", \"stepped\": true, \"type\": \"scatter\", \"data\": [0.9664923021352049, 0.9664923021352049, 0.9664923021352049, 0.9664923021352049, 0.9664923021352049, 0.9664923021352049, 0.9664923021352049, 0.9664923021352049, 0.9664923021352049, 0.9664923021352049, 0.9664923021352049, 0.9664923021352049, 0.9664923021352049, 0.9664923021352049, 0.9664923021352049, 0.9664923021352049, 0.9664923021352049, 0.9783720321492062]}], \"AUC_micro\": [{\"categories\": [\"0\", \"5\", \"10\", \"17\", \"20\", \"23\", \"24\", \"26\", \"27\", \"28\", \"29\", \"30\", \"31\", \"32\", \"33\", \"34\", \"35\", \"38\"], \"mode\": \"markers\", \"name\": \"AUC_micro\", \"stepped\": false, \"type\": \"scatter\", \"data\": [0.9944681566070563, 0.879484238870987, 0.9849134653284214, 0.9911687406957244, 0.9919451373578057, 0.986943196022638, 0.9938889065552352, 0.9952157178660939, 0.9927531469651573, 0.994682498461065, 0.9913339995508823, 0.9898410951407339, 0.9880556556648512, 0.9845468837350266, 0.9851535853260971, 0.9934732566849455, 0.7117131900082285, 0.996477644612785]}, {\"categories\": [\"0\", \"5\", \"10\", \"17\", \"20\", \"23\", \"24\", \"26\", \"27\", \"28\", \"29\", \"30\", \"31\", \"32\", \"33\", \"34\", \"35\", \"38\"], \"mode\": \"lines\", \"name\": \"AUC_micro_max\", \"stepped\": true, \"type\": \"scatter\", \"data\": [0.9944681566070563, 0.9944681566070563, 0.9944681566070563, 0.9944681566070563, 0.9944681566070563, 0.9944681566070563, 0.9944681566070563, 0.9952157178660939, 0.9952157178660939, 0.9952157178660939, 0.9952157178660939, 0.9952157178660939, 0.9952157178660939, 0.9952157178660939, 0.9952157178660939, 0.9952157178660939, 0.9952157178660939, 0.996477644612785]}], \"precision_score_micro\": [{\"categories\": [\"0\", \"5\", \"10\", \"17\", \"20\", \"23\", \"24\", \"26\", \"27\", \"28\", \"29\", \"30\", \"31\", \"32\", \"33\", \"34\", \"35\", \"38\"], \"mode\": \"markers\", \"name\": \"precision_score_micro\", \"stepped\": false, \"type\": \"scatter\", \"data\": [0.9718045112781954, 0.7767230576441102, 0.9453947368421053, 0.963063909774436, 0.9595551378446114, 0.9577067669172932, 0.9665726817042606, 0.968295739348371, 0.9630325814536341, 0.9700814536340852, 0.9594924812030076, 0.9594924812030076, 0.9507205513784461, 0.9402568922305765, 0.9367481203007518, 0.9683270676691729, 0.6554824561403508, 0.9806390977443609]}, {\"categories\": [\"0\", \"5\", \"10\", \"17\", \"20\", \"23\", \"24\", \"26\", \"27\", \"28\", \"29\", \"30\", \"31\", \"32\", \"33\", \"34\", \"35\", \"38\"], \"mode\": \"lines\", \"name\": \"precision_score_micro_max\", \"stepped\": true, \"type\": \"scatter\", \"data\": [0.9718045112781954, 0.9718045112781954, 0.9718045112781954, 0.9718045112781954, 0.9718045112781954, 0.9718045112781954, 0.9718045112781954, 0.9718045112781954, 0.9718045112781954, 0.9718045112781954, 0.9718045112781954, 0.9718045112781954, 0.9718045112781954, 0.9718045112781954, 0.9718045112781954, 0.9718045112781954, 0.9718045112781954, 0.9806390977443609]}], \"f1_score_macro\": [{\"categories\": [\"0\", \"5\", \"10\", \"17\", \"20\", \"23\", \"24\", \"26\", \"27\", \"28\", \"29\", \"30\", \"31\", \"32\", \"33\", \"34\", \"35\", \"38\"], \"mode\": \"markers\", \"name\": \"f1_score_macro\", \"stepped\": false, \"type\": \"scatter\", \"data\": [0.9694160676540076, 0.7178123406246626, 0.941718896074736, 0.9596406960311018, 0.9558732779759888, 0.9546916970107737, 0.9635175770945603, 0.9654527720574879, 0.9596971384471262, 0.9674304849479926, 0.9553534850790631, 0.9556272216701298, 0.9458157743661587, 0.9357204269594824, 0.9320400465913659, 0.9655976094810985, 0.5443146207181856, 0.9793311427258]}, {\"categories\": [\"0\", \"5\", \"10\", \"17\", \"20\", \"23\", \"24\", \"26\", \"27\", \"28\", \"29\", \"30\", \"31\", \"32\", \"33\", \"34\", \"35\", \"38\"], \"mode\": \"lines\", \"name\": \"f1_score_macro_max\", \"stepped\": true, \"type\": \"scatter\", \"data\": [0.9694160676540076, 0.9694160676540076, 0.9694160676540076, 0.9694160676540076, 0.9694160676540076, 0.9694160676540076, 0.9694160676540076, 0.9694160676540076, 0.9694160676540076, 0.9694160676540076, 0.9694160676540076, 0.9694160676540076, 0.9694160676540076, 0.9694160676540076, 0.9694160676540076, 0.9694160676540076, 0.9694160676540076, 0.9793311427258]}], \"recall_score_micro\": [{\"categories\": [\"0\", \"5\", \"10\", \"17\", \"20\", \"23\", \"24\", \"26\", \"27\", \"28\", \"29\", \"30\", \"31\", \"32\", \"33\", \"34\", \"35\", \"38\"], \"mode\": \"markers\", \"name\": \"recall_score_micro\", \"stepped\": false, \"type\": \"scatter\", \"data\": [0.9718045112781954, 0.7767230576441102, 0.9453947368421053, 0.963063909774436, 0.9595551378446114, 0.9577067669172932, 0.9665726817042606, 0.968295739348371, 0.9630325814536341, 0.9700814536340852, 0.9594924812030076, 0.9594924812030076, 0.9507205513784461, 0.9402568922305765, 0.9367481203007518, 0.9683270676691729, 0.6554824561403508, 0.9806390977443609]}, {\"categories\": [\"0\", \"5\", \"10\", \"17\", \"20\", \"23\", \"24\", \"26\", \"27\", \"28\", \"29\", \"30\", \"31\", \"32\", \"33\", \"34\", \"35\", \"38\"], \"mode\": \"lines\", \"name\": \"recall_score_micro_max\", \"stepped\": true, \"type\": \"scatter\", \"data\": [0.9718045112781954, 0.9718045112781954, 0.9718045112781954, 0.9718045112781954, 0.9718045112781954, 0.9718045112781954, 0.9718045112781954, 0.9718045112781954, 0.9718045112781954, 0.9718045112781954, 0.9718045112781954, 0.9718045112781954, 0.9718045112781954, 0.9718045112781954, 0.9718045112781954, 0.9718045112781954, 0.9718045112781954, 0.9806390977443609]}]}, \"metricName\": null, \"primaryMetricName\": \"AUC_weighted\", \"showLegend\": false}, \"run_metrics\": [{\"name\": \"experiment_status\", \"run_id\": \"AutoML_72024c89-fcd5-47e9-b812-3889f402a6be\", \"categories\": [0, 1, 2, 3, 4, 5, 6, 7, 8, 9, 10, 11, 12, 13], \"series\": [{\"data\": [\"DatasetEvaluation\", \"FeaturesGeneration\", \"DatasetFeaturization\", \"DatasetFeaturizationCompleted\", \"DatasetCrossValidationSplit\", \"ModelSelection\", \"BestRunExplainModel\", \"ModelExplanationDataSetSetup\", \"PickSurrogateModel\", \"EngineeredFeatureExplanations\", \"EngineeredFeatureExplanations\", \"RawFeaturesExplanations\", \"RawFeaturesExplanations\", \"BestRunExplainModel\"]}]}, {\"name\": \"experiment_status_description\", \"run_id\": \"AutoML_72024c89-fcd5-47e9-b812-3889f402a6be\", \"categories\": [0, 1, 2, 3, 4, 5, 6, 7, 8, 9, 10, 11, 12, 13], \"series\": [{\"data\": [\"Gathering dataset statistics.\", \"Generating features for the dataset.\", \"Beginning to fit featurizers and featurize the dataset.\", \"Completed fit featurizers and featurizing the dataset.\", \"Generating individually featurized CV splits.\", \"Beginning model selection.\", \"Best run model explanations started\", \"Model explanations data setup completed\", \"Choosing LightGBM as the surrogate model for explanations\", \"Computation of engineered features started\", \"Computation of engineered features completed\", \"Computation of raw features started\", \"Computation of raw features completed\", \"Best run model explanations completed\"]}]}, {\"name\": \"precision_score_weighted\", \"run_id\": \"AutoML_72024c89-fcd5-47e9-b812-3889f402a6be\", \"categories\": [0], \"series\": [{\"data\": [0.9817039608102791]}]}, {\"name\": \"weighted_accuracy\", \"run_id\": \"AutoML_72024c89-fcd5-47e9-b812-3889f402a6be\", \"categories\": [0], \"series\": [{\"data\": [0.9827143255560973]}]}, {\"name\": \"f1_score_macro\", \"run_id\": \"AutoML_72024c89-fcd5-47e9-b812-3889f402a6be\", \"categories\": [0], \"series\": [{\"data\": [0.9793311427258]}]}, {\"name\": \"log_loss\", \"run_id\": \"AutoML_72024c89-fcd5-47e9-b812-3889f402a6be\", \"categories\": [0], \"series\": [{\"data\": [0.08682214970430088]}]}, {\"name\": \"AUC_macro\", \"run_id\": \"AutoML_72024c89-fcd5-47e9-b812-3889f402a6be\", \"categories\": [0], \"series\": [{\"data\": [0.9971575796326435]}]}, {\"name\": \"recall_score_weighted\", \"run_id\": \"AutoML_72024c89-fcd5-47e9-b812-3889f402a6be\", \"categories\": [0], \"series\": [{\"data\": [0.9806390977443609]}]}, {\"name\": \"balanced_accuracy\", \"run_id\": \"AutoML_72024c89-fcd5-47e9-b812-3889f402a6be\", \"categories\": [0], \"series\": [{\"data\": [0.9783720321492062]}]}, {\"name\": \"recall_score_macro\", \"run_id\": \"AutoML_72024c89-fcd5-47e9-b812-3889f402a6be\", \"categories\": [0], \"series\": [{\"data\": [0.9783720321492062]}]}, {\"name\": \"average_precision_score_macro\", \"run_id\": \"AutoML_72024c89-fcd5-47e9-b812-3889f402a6be\", \"categories\": [0], \"series\": [{\"data\": [0.9973197531232267]}]}, {\"name\": \"accuracy\", \"run_id\": \"AutoML_72024c89-fcd5-47e9-b812-3889f402a6be\", \"categories\": [0], \"series\": [{\"data\": [0.9806390977443609]}]}, {\"name\": \"average_precision_score_weighted\", \"run_id\": \"AutoML_72024c89-fcd5-47e9-b812-3889f402a6be\", \"categories\": [0], \"series\": [{\"data\": [0.9974336038937496]}]}, {\"name\": \"matthews_correlation\", \"run_id\": \"AutoML_72024c89-fcd5-47e9-b812-3889f402a6be\", \"categories\": [0], \"series\": [{\"data\": [0.9599511929248765]}]}, {\"name\": \"norm_macro_recall\", \"run_id\": \"AutoML_72024c89-fcd5-47e9-b812-3889f402a6be\", \"categories\": [0], \"series\": [{\"data\": [0.9567440642984121]}]}, {\"name\": \"average_precision_score_micro\", \"run_id\": \"AutoML_72024c89-fcd5-47e9-b812-3889f402a6be\", \"categories\": [0], \"series\": [{\"data\": [0.9966146108956895]}]}, {\"name\": \"f1_score_micro\", \"run_id\": \"AutoML_72024c89-fcd5-47e9-b812-3889f402a6be\", \"categories\": [0], \"series\": [{\"data\": [0.9806390977443609]}]}, {\"name\": \"precision_score_micro\", \"run_id\": \"AutoML_72024c89-fcd5-47e9-b812-3889f402a6be\", \"categories\": [0], \"series\": [{\"data\": [0.9806390977443609]}]}, {\"name\": \"AUC_weighted\", \"run_id\": \"AutoML_72024c89-fcd5-47e9-b812-3889f402a6be\", \"categories\": [0], \"series\": [{\"data\": [0.9971575796326435]}]}, {\"name\": \"precision_score_macro\", \"run_id\": \"AutoML_72024c89-fcd5-47e9-b812-3889f402a6be\", \"categories\": [0], \"series\": [{\"data\": [0.9816561703403808]}]}, {\"name\": \"f1_score_weighted\", \"run_id\": \"AutoML_72024c89-fcd5-47e9-b812-3889f402a6be\", \"categories\": [0], \"series\": [{\"data\": [0.9805604598289495]}]}, {\"name\": \"AUC_micro\", \"run_id\": \"AutoML_72024c89-fcd5-47e9-b812-3889f402a6be\", \"categories\": [0], \"series\": [{\"data\": [0.996477644612785]}]}, {\"name\": \"recall_score_micro\", \"run_id\": \"AutoML_72024c89-fcd5-47e9-b812-3889f402a6be\", \"categories\": [0], \"series\": [{\"data\": [0.9806390977443609]}]}], \"run_logs\": \"\\nRun is completed.\", \"graph\": {}, \"widget_settings\": {\"childWidgetDisplay\": \"popup\", \"send_telemetry\": false, \"log_level\": \"INFO\", \"sdk_version\": \"1.49.0\"}, \"loading\": false}"
          },
          "metadata": {}
        },
        {
          "output_type": "display_data",
          "data": {
            "text/plain": "<IPython.core.display.HTML object>",
            "text/html": "<table style=\"width:100%\"><tr><th>Experiment</th><th>Id</th><th>Type</th><th>Status</th><th>Details Page</th><th>Docs Page</th></tr><tr><td>cancer-auto-ml</td><td>AutoML_72024c89-fcd5-47e9-b812-3889f402a6be</td><td>automl</td><td>NotStarted</td><td><a href=\"https://ml.azure.com/runs/AutoML_72024c89-fcd5-47e9-b812-3889f402a6be?wsid=/subscriptions/6971f5ac-8af1-446e-8034-05acea24681f/resourcegroups/aml-quickstarts-233079/workspaces/quick-starts-ws-233079&amp;tid=660b3398-b80e-49d2-bc5b-ac1dc93b5254\" target=\"_blank\" rel=\"noopener\">Link to Azure Machine Learning studio</a></td><td><a href=\"https://docs.microsoft.com/en-us/python/api/overview/azure/ml/intro?view=azure-ml-py\" target=\"_blank\" rel=\"noopener\">Link to Documentation</a></td></tr></table>"
          },
          "metadata": {}
        },
        {
          "output_type": "stream",
          "name": "stdout",
          "text": "\nCurrent status: FeaturesGeneration. Generating features for the dataset.\nCurrent status: DatasetCrossValidationSplit. Generating individually featurized CV splits.\nCurrent status: ModelSelection. Beginning model selection.\n\n********************************************************************************************\nDATA GUARDRAILS: \n\nTYPE:         Cross validation\nSTATUS:       DONE\nDESCRIPTION:  In order to accurately evaluate the model(s) trained by AutoML, we leverage a dataset that the model is not trained on. Hence, if the user doesn't provide an explicit validation dataset, a part of the training dataset is used to achieve this. For smaller datasets (fewer than 20,000 samples), cross-validation is leveraged, else a single hold-out set is split from the training data to serve as the validation dataset. Hence, for your input data we leverage cross-validation with 10 folds, if the number of training samples are fewer than 1000, and 3 folds in all other cases.\n              Learn more about cross validation: https://aka.ms/AutomatedMLCrossValidation\nDETAILS:      \n+------------------------------+\n|Number of folds               |\n+==============================+\n|10                            |\n+------------------------------+\n\n********************************************************************************************\n\nTYPE:         Class balancing detection\nSTATUS:       PASSED\nDESCRIPTION:  Your inputs were analyzed, and all classes are balanced in your training data.\n              Learn more about imbalanced data: https://aka.ms/AutomatedMLImbalancedData\n\n********************************************************************************************\n\nTYPE:         Missing feature values imputation\nSTATUS:       PASSED\nDESCRIPTION:  No feature missing values were detected in the training data.\n              Learn more about missing value imputation: https://aka.ms/AutomatedMLFeaturization\n\n********************************************************************************************\n\nTYPE:         High cardinality feature detection\nSTATUS:       PASSED\nDESCRIPTION:  Your inputs were analyzed, and no high cardinality features were detected.\n              Learn more about high cardinality feature handling: https://aka.ms/AutomatedMLFeaturization\n\n********************************************************************************************\n\n********************************************************************************************\nITER: The iteration being evaluated.\nPIPELINE: A summary description of the pipeline being evaluated.\nDURATION: Time taken for the current iteration.\nMETRIC: The result of computing score on the fitted pipeline.\nBEST: The best observed score thus far.\n********************************************************************************************\n\n ITER   PIPELINE                                       DURATION            METRIC      BEST\n    0   MaxAbsScaler LightGBM                          0:00:17             0.9947    0.9947\n    1   MaxAbsScaler XGBoostClassifier                 0:00:14             0.9946    0.9947\n    2   MaxAbsScaler ExtremeRandomTrees                0:00:12             0.9896    0.9947\n    3   MaxAbsScaler RandomForest                      0:00:12             0.9916    0.9947\n    4   StandardScalerWrapper LightGBM                 0:00:14             0.9895    0.9947\n    5   StandardScalerWrapper KNN                      0:00:12             0.8988    0.9947\n    6   SparseNormalizer XGBoostClassifier             0:00:12             0.9818    0.9947\n    7   SparseNormalizer RandomForest                  0:00:15             0.9691    0.9947\n    8   RobustScaler KNN                               0:00:20             0.9892    0.9947\n    9   MinMaxScaler RandomForest                      0:00:14             0.9821    0.9947\n   10   StandardScalerWrapper LogisticRegression       0:00:12             0.9831    0.9947\n   11   StandardScalerWrapper SVM                      0:00:12             0.9905    0.9947\n   12   StandardScalerWrapper XGBoostClassifier        0:00:18             0.9889    0.9947\n   16   MinMaxScaler ExtremeRandomTrees                0:00:21             0.9887    0.9947\n   13   SparseNormalizer KNN                           0:00:15             0.9642    0.9947\n   14   RobustScaler ExtremeRandomTrees                0:00:14             0.9864    0.9947\n   17   MinMaxScaler ExtremeRandomTrees                0:00:17             0.9903    0.9947\n   18   SparseNormalizer LightGBM                      0:00:13             0.9615    0.9947\n   15   SparseNormalizer XGBoostClassifier             0:00:14             0.9804    0.9947\n   19   MaxAbsScaler ExtremeRandomTrees                0:00:22             0.9922    0.9947\n   20   StandardScalerWrapper XGBoostClassifier        0:00:33             0.9914    0.9947\n   21   StandardScalerWrapper RandomForest             0:00:46             0.9909    0.9947\n   24   StandardScalerWrapper LightGBM                 0:00:35             0.9937    0.9947\n   25   StandardScalerWrapper ExtremeRandomTrees       0:00:40             0.9907    0.9947\n   26   StandardScalerWrapper XGBoostClassifier        0:00:33             0.9944    0.9947\n   22   MaxAbsScaler LightGBM                          0:02:16             0.9894    0.9947\n   23   MaxAbsScaler LogisticRegression                0:01:36             0.9849    0.9947\n   27   StandardScalerWrapper XGBoostClassifier        0:00:43             0.9926    0.9947\n   28   StandardScalerWrapper XGBoostClassifier        0:00:31             0.9946    0.9947\n   29   RobustScaler LightGBM                          0:00:34             0.9906    0.9947\n   30   MinMaxScaler LightGBM                          0:00:34             0.9896    0.9947\n   31   MaxAbsScaler GradientBoosting                  0:00:39             0.9907    0.9947\n   32   StandardScalerWrapper RandomForest             0:00:52             0.9853    0.9947\n   33   RobustScaler RandomForest                      0:00:49             0.9853    0.9947\n   34   StandardScalerWrapper LightGBM                 0:00:35             0.9940    0.9947\n   35   PCA LightGBM                                   0:00:23             0.6597    0.9947\n   36                                                  0:00:06                nan    0.9947\n   37                                                  0:00:01                nan    0.9947\n   39    StackEnsemble                                 0:01:29             0.9969    0.9969\n   38    VotingEnsemble                                0:02:24             0.9972    0.9972\n"
        },
        {
          "output_type": "execute_result",
          "execution_count": 13,
          "data": {
            "text/plain": "{'runId': 'AutoML_72024c89-fcd5-47e9-b812-3889f402a6be',\n 'target': 'cluster-project',\n 'status': 'Completed',\n 'startTimeUtc': '2023-05-08T08:44:29.902461Z',\n 'endTimeUtc': '2023-05-08T09:01:43.823901Z',\n 'services': {},\n 'warnings': [{'source': 'JasmineService',\n   'message': 'No scores improved over last 10 iterations, so experiment stopped early. This early stopping behavior can be disabled by setting enable_early_stopping = False in AutoMLConfig for notebook/python SDK runs.'}],\n 'properties': {'num_iterations': '1000',\n  'training_type': 'TrainFull',\n  'acquisition_function': 'EI',\n  'primary_metric': 'AUC_weighted',\n  'train_split': '0',\n  'acquisition_parameter': '0',\n  'num_cross_validation': None,\n  'target': 'cluster-project',\n  'AMLSettingsJsonString': '{\"path\":null,\"name\":\"cancer-auto-ml\",\"subscription_id\":\"6971f5ac-8af1-446e-8034-05acea24681f\",\"resource_group\":\"aml-quickstarts-233079\",\"workspace_name\":\"quick-starts-ws-233079\",\"region\":\"westus2\",\"compute_target\":\"cluster-project\",\"spark_service\":null,\"azure_service\":\"remote\",\"many_models\":false,\"pipeline_fetch_max_batch_size\":1,\"enable_batch_run\":true,\"enable_parallel_run\":false,\"num_procs\":null,\"enable_run_restructure\":false,\"start_auxiliary_runs_before_parent_complete\":false,\"enable_code_generation\":true,\"iterations\":1000,\"primary_metric\":\"AUC_weighted\",\"task_type\":\"classification\",\"positive_label\":null,\"data_script\":null,\"test_size\":0.0,\"test_include_predictions_only\":false,\"validation_size\":0.0,\"n_cross_validations\":null,\"y_min\":null,\"y_max\":null,\"num_classes\":null,\"featurization\":\"auto\",\"_ignore_package_version_incompatibilities\":false,\"is_timeseries\":false,\"max_cores_per_iteration\":1,\"max_concurrent_iterations\":5,\"iteration_timeout_minutes\":null,\"mem_in_mb\":null,\"enforce_time_on_windows\":false,\"experiment_timeout_minutes\":20,\"experiment_exit_score\":null,\"partition_column_names\":null,\"whitelist_models\":null,\"blacklist_algos\":[\"TensorFlowLinearClassifier\",\"TensorFlowDNN\"],\"supported_models\":[\"TensorFlowDNN\",\"XGBoostClassifier\",\"GradientBoosting\",\"LogisticRegression\",\"BernoulliNaiveBayes\",\"ExtremeRandomTrees\",\"AveragedPerceptronClassifier\",\"LinearSVM\",\"LightGBM\",\"TensorFlowLinearClassifier\",\"SVM\",\"MultinomialNaiveBayes\",\"KNN\",\"TabnetClassifier\",\"RandomForest\",\"DecisionTree\",\"SGD\"],\"private_models\":[],\"auto_blacklist\":true,\"blacklist_samples_reached\":false,\"exclude_nan_labels\":true,\"verbosity\":20,\"_debug_log\":\"azureml_automl.log\",\"show_warnings\":false,\"model_explainability\":true,\"service_url\":null,\"sdk_url\":null,\"sdk_packages\":null,\"enable_onnx_compatible_models\":false,\"enable_split_onnx_featurizer_estimator_models\":false,\"vm_type\":\"STANDARD_D2_V2\",\"telemetry_verbosity\":20,\"send_telemetry\":true,\"enable_dnn\":false,\"scenario\":\"AutoML\",\"environment_label\":null,\"save_mlflow\":false,\"enable_categorical_indicators\":false,\"force_text_dnn\":false,\"enable_feature_sweeping\":true,\"enable_early_stopping\":true,\"early_stopping_n_iters\":10,\"arguments\":null,\"dataset_id\":\"eee7b867-d4a7-4053-be2b-e674cb04cc61\",\"hyperdrive_config\":null,\"validation_dataset_id\":null,\"run_source\":null,\"metrics\":null,\"enable_metric_confidence\":false,\"enable_ensembling\":true,\"enable_stack_ensembling\":true,\"ensemble_iterations\":15,\"enable_tf\":false,\"enable_subsampling\":null,\"subsample_seed\":null,\"enable_nimbusml\":false,\"enable_streaming\":false,\"force_streaming\":false,\"track_child_runs\":true,\"n_best_runs\":1,\"allowed_private_models\":[],\"label_column_name\":\"diagnosis\",\"weight_column_name\":null,\"cv_split_column_names\":null,\"enable_local_managed\":false,\"_local_managed_run_id\":null,\"cost_mode\":1,\"lag_length\":0,\"metric_operation\":\"maximize\",\"preprocess\":true}',\n  'DataPrepJsonString': '{\\\\\"training_data\\\\\": {\\\\\"datasetId\\\\\": \\\\\"eee7b867-d4a7-4053-be2b-e674cb04cc61\\\\\"}, \\\\\"datasets\\\\\": 0}',\n  'EnableSubsampling': None,\n  'runTemplate': 'AutoML',\n  'azureml.runsource': 'automl',\n  'display_task_type': 'classification',\n  'dependencies_versions': '{\"azureml-widgets\": \"1.49.0\", \"azureml-training-tabular\": \"1.49.0\", \"azureml-train\": \"1.49.0\", \"azureml-train-restclients-hyperdrive\": \"1.49.0\", \"azureml-train-core\": \"1.49.0\", \"azureml-train-automl\": \"1.49.0\", \"azureml-train-automl-runtime\": \"1.49.0\", \"azureml-train-automl-client\": \"1.49.0\", \"azureml-tensorboard\": \"1.49.0\", \"azureml-telemetry\": \"1.49.0\", \"azureml-sdk\": \"1.49.0\", \"azureml-responsibleai\": \"1.49.0\", \"azureml-pipeline\": \"1.49.0\", \"azureml-pipeline-steps\": \"1.49.0\", \"azureml-pipeline-core\": \"1.49.0\", \"azureml-opendatasets\": \"1.49.0\", \"azureml-mlflow\": \"1.49.0\", \"azureml-interpret\": \"1.49.0\", \"azureml-inference-server-http\": \"0.8.0\", \"azureml-explain-model\": \"1.49.0\", \"azureml-defaults\": \"1.49.0\", \"azureml-dataset-runtime\": \"1.49.0\", \"azureml-dataprep\": \"4.9.1\", \"azureml-dataprep-rslex\": \"2.16.1\", \"azureml-dataprep-native\": \"38.0.0\", \"azureml-datadrift\": \"1.49.0\", \"azureml-core\": \"1.49.0\", \"azureml-contrib-services\": \"1.49.0\", \"azureml-contrib-server\": \"1.49.0\", \"azureml-contrib-reinforcementlearning\": \"1.49.0\", \"azureml-contrib-pipeline-steps\": \"1.49.0\", \"azureml-contrib-notebook\": \"1.49.0\", \"azureml-contrib-fairness\": \"1.49.0\", \"azureml-contrib-dataset\": \"1.49.0\", \"azureml-contrib-automl-pipeline-steps\": \"1.49.0\", \"azureml-cli-common\": \"1.49.0\", \"azureml-automl-runtime\": \"1.49.0\", \"azureml-automl-dnn-nlp\": \"1.49.0\", \"azureml-automl-core\": \"1.49.0\", \"azureml-accel-models\": \"1.49.0\"}',\n  '_aml_system_scenario_identification': 'Remote.Parent',\n  'ClientType': 'SDK',\n  'PlatformVersion': 'DPV1',\n  'environment_cpu_name': 'AzureML-AutoML',\n  'environment_cpu_label': 'prod',\n  'environment_gpu_name': 'AzureML-AutoML-GPU',\n  'environment_gpu_label': 'prod',\n  'root_attribution': 'automl',\n  'attribution': 'AutoML',\n  'Orchestrator': 'AutoML',\n  'CancelUri': 'https://westus2.api.azureml.ms/jasmine/v1.0/subscriptions/6971f5ac-8af1-446e-8034-05acea24681f/resourceGroups/aml-quickstarts-233079/providers/Microsoft.MachineLearningServices/workspaces/quick-starts-ws-233079/experimentids/7ea3610d-6262-48a9-bab9-f99647ab8fad/cancel/AutoML_72024c89-fcd5-47e9-b812-3889f402a6be',\n  'ClientSdkVersion': None,\n  'snapshotId': '00000000-0000-0000-0000-000000000000',\n  'SetupRunId': 'AutoML_72024c89-fcd5-47e9-b812-3889f402a6be_setup',\n  'SetupRunContainerId': 'dcid.AutoML_72024c89-fcd5-47e9-b812-3889f402a6be_setup',\n  'FeaturizationRunJsonPath': 'featurizer_container.json',\n  'FeaturizationRunId': 'AutoML_72024c89-fcd5-47e9-b812-3889f402a6be_featurize',\n  'ProblemInfoJsonString': '{\"dataset_num_categorical\": 0, \"is_sparse\": false, \"subsampling\": false, \"has_extra_col\": true, \"dataset_classes\": 2, \"dataset_features\": 31, \"dataset_samples\": 569, \"single_frequency_class_detected\": false}',\n  'ModelExplainRunId': 'AutoML_72024c89-fcd5-47e9-b812-3889f402a6be_ModelExplain'},\n 'inputDatasets': [{'dataset': {'id': 'eee7b867-d4a7-4053-be2b-e674cb04cc61'}, 'consumptionDetails': {'type': 'RunInput', 'inputName': 'training_data', 'mechanism': 'Direct'}}],\n 'outputDatasets': [{'identifier': {'savedId': '84d97029-69c1-4910-8d70-81d61bddfd03'},\n   'outputType': 'RunOutput',\n   'outputDetails': {'outputName': 'full_training_dataset'},\n   'dataset': {\n     \"source\": [\n       \"('workspaceartifactstore', 'ExperimentRun/dcid.AutoML_72024c89-fcd5-47e9-b812-3889f402a6be/outputs/featurization/data/full_training_dataset.df.parquet')\"\n     ],\n     \"definition\": [\n       \"GetDatastoreFiles\",\n       \"ReadParquetFile\",\n       \"DropColumns\"\n     ],\n     \"registration\": {\n       \"id\": \"84d97029-69c1-4910-8d70-81d61bddfd03\",\n       \"name\": null,\n       \"version\": null,\n       \"workspace\": \"Workspace.create(name='quick-starts-ws-233079', subscription_id='6971f5ac-8af1-446e-8034-05acea24681f', resource_group='aml-quickstarts-233079')\"\n     }\n   }}],\n 'logFiles': {},\n 'submittedBy': 'ODL_User 233079'}"
          },
          "metadata": {}
        }
      ],
      "execution_count": 13,
      "metadata": {
        "gather": {
          "logged": 1683536533219
        },
        "jupyter": {
          "outputs_hidden": false,
          "source_hidden": false
        },
        "nteract": {
          "transient": {
            "deleting": false
          }
        }
      }
    },
    {
      "cell_type": "markdown",
      "source": [
        "## Best Model\n",
        "\n",
        "TODO: In the cell below, get the best model from the automl experiments and display all the properties of the model.\n",
        "\n"
      ],
      "metadata": {}
    },
    {
      "cell_type": "code",
      "source": [
        "\n",
        "best_run = remote_run.get_best_child()\n",
        "print(best_run)\n",
        "\n",
        "brm = best_run.get_metrics()\n",
        "\n",
        "for metric_name, metric in zip(brm.keys(), brm.values()):\n",
        "    print(f\"{metric_name}: {metric}\")"
      ],
      "outputs": [
        {
          "output_type": "stream",
          "name": "stdout",
          "text": "Run(Experiment: cancer-auto-ml,\nId: AutoML_72024c89-fcd5-47e9-b812-3889f402a6be_38,\nType: azureml.scriptrun,\nStatus: Completed)\nrecall_score_micro: 0.9806390977443609\nAUC_micro: 0.996477644612785\nmatthews_correlation: 0.9599511929248765\naverage_precision_score_weighted: 0.9974336038937496\naverage_precision_score_macro: 0.9973197531232267\nprecision_score_macro: 0.9816561703403808\nf1_score_weighted: 0.9805604598289495\nf1_score_macro: 0.9793311427258\nf1_score_micro: 0.9806390977443609\nprecision_score_micro: 0.9806390977443609\naverage_precision_score_micro: 0.9966146108956895\nrecall_score_macro: 0.9783720321492062\naccuracy: 0.9806390977443609\nAUC_weighted: 0.9971575796326435\nprecision_score_weighted: 0.9817039608102791\nAUC_macro: 0.9971575796326435\nweighted_accuracy: 0.9827143255560973\nlog_loss: 0.08682214970430088\nnorm_macro_recall: 0.9567440642984121\nrecall_score_weighted: 0.9806390977443609\nbalanced_accuracy: 0.9783720321492062\nconfusion_matrix: aml://artifactId/ExperimentRun/dcid.AutoML_72024c89-fcd5-47e9-b812-3889f402a6be_38/confusion_matrix\naccuracy_table: aml://artifactId/ExperimentRun/dcid.AutoML_72024c89-fcd5-47e9-b812-3889f402a6be_38/accuracy_table\n"
        }
      ],
      "execution_count": 45,
      "metadata": {
        "gather": {
          "logged": 1683542067611
        },
        "jupyter": {
          "outputs_hidden": false,
          "source_hidden": false
        },
        "nteract": {
          "transient": {
            "deleting": false
          }
        }
      }
    },
    {
      "cell_type": "code",
      "source": [
        "print(best_run.properties)"
      ],
      "outputs": [
        {
          "output_type": "stream",
          "name": "stdout",
          "text": "{'runTemplate': 'automl_child', 'pipeline_id': '__AutoML_Ensemble__', 'pipeline_spec': '{\"pipeline_id\":\"__AutoML_Ensemble__\",\"objects\":[{\"module\":\"azureml.train.automl.ensemble\",\"class_name\":\"Ensemble\",\"spec_class\":\"sklearn\",\"param_args\":[],\"param_kwargs\":{\"automl_settings\":\"{\\'task_type\\':\\'classification\\',\\'primary_metric\\':\\'AUC_weighted\\',\\'verbosity\\':20,\\'ensemble_iterations\\':15,\\'is_timeseries\\':False,\\'name\\':\\'cancer-auto-ml\\',\\'compute_target\\':\\'cluster-project\\',\\'subscription_id\\':\\'6971f5ac-8af1-446e-8034-05acea24681f\\',\\'region\\':\\'westus2\\',\\'spark_service\\':None}\",\"ensemble_run_id\":\"AutoML_72024c89-fcd5-47e9-b812-3889f402a6be_38\",\"experiment_name\":\"cancer-auto-ml\",\"workspace_name\":\"quick-starts-ws-233079\",\"subscription_id\":\"6971f5ac-8af1-446e-8034-05acea24681f\",\"resource_group_name\":\"aml-quickstarts-233079\"}}]}', 'training_percent': '100', 'predicted_cost': None, 'iteration': '38', '_aml_system_scenario_identification': 'Remote.Child', '_azureml.ComputeTargetType': 'amlctrain', 'ContentSnapshotId': 'e533e104-c9b5-46fc-814a-e78b6ab0275a', 'ProcessInfoFile': 'azureml-logs/process_info.json', 'ProcessStatusFile': 'azureml-logs/process_status.json', 'run_preprocessor': '', 'run_algorithm': 'VotingEnsemble', 'ensembled_iterations': '[0, 1, 28, 26, 34, 3, 11, 22, 23]', 'ensembled_algorithms': \"['LightGBM', 'XGBoostClassifier', 'XGBoostClassifier', 'XGBoostClassifier', 'LightGBM', 'RandomForest', 'SVM', 'LightGBM', 'LogisticRegression']\", 'ensembled_run_ids': \"['AutoML_72024c89-fcd5-47e9-b812-3889f402a6be_0', 'AutoML_72024c89-fcd5-47e9-b812-3889f402a6be_1', 'AutoML_72024c89-fcd5-47e9-b812-3889f402a6be_28', 'AutoML_72024c89-fcd5-47e9-b812-3889f402a6be_26', 'AutoML_72024c89-fcd5-47e9-b812-3889f402a6be_34', 'AutoML_72024c89-fcd5-47e9-b812-3889f402a6be_3', 'AutoML_72024c89-fcd5-47e9-b812-3889f402a6be_11', 'AutoML_72024c89-fcd5-47e9-b812-3889f402a6be_22', 'AutoML_72024c89-fcd5-47e9-b812-3889f402a6be_23']\", 'ensemble_weights': '[0.09090909090909091, 0.09090909090909091, 0.18181818181818182, 0.09090909090909091, 0.09090909090909091, 0.09090909090909091, 0.09090909090909091, 0.09090909090909091, 0.18181818181818182]', 'best_individual_pipeline_score': '0.9947209139504535', 'best_individual_iteration': '0', 'model_output_path': 'outputs/model.pkl', 'conda_env_data_location': 'aml://artifact/ExperimentRun/dcid.AutoML_72024c89-fcd5-47e9-b812-3889f402a6be_38/outputs/conda_env_v_1_0_0.yml', 'model_data_location': 'aml://artifact/ExperimentRun/dcid.AutoML_72024c89-fcd5-47e9-b812-3889f402a6be_38/outputs/model.pkl', 'model_size_on_disk': '857622', 'scoring_data_location': 'aml://artifact/ExperimentRun/dcid.AutoML_72024c89-fcd5-47e9-b812-3889f402a6be_38/outputs/scoring_file_v_1_0_0.py', 'scoring_data_location_v2': 'aml://artifact/ExperimentRun/dcid.AutoML_72024c89-fcd5-47e9-b812-3889f402a6be_38/outputs/scoring_file_v_2_0_0.py', 'scoring_data_location_pbi': 'aml://artifact/ExperimentRun/dcid.AutoML_72024c89-fcd5-47e9-b812-3889f402a6be_38/outputs/scoring_file_pbi_v_1_0_0.py', 'model_exp_support': 'True', 'pipeline_graph_version': '1.0.0', 'model_name': 'AutoML72024c89f38', 'score': '0.9971575796326435', 'score_table': 'NaN', 'run_properties': 'classification_labels=numpy.array([0, 1]', 'pipeline_script': '{\"pipeline_id\":\"__AutoML_Ensemble__\",\"objects\":[{\"module\":\"azureml.train.automl.ensemble\",\"class_name\":\"Ensemble\",\"spec_class\":\"sklearn\",\"param_args\":[],\"param_kwargs\":{\"automl_settings\":\"{\\'task_type\\':\\'classification\\',\\'primary_metric\\':\\'AUC_weighted\\',\\'verbosity\\':20,\\'ensemble_iterations\\':15,\\'is_timeseries\\':False,\\'name\\':\\'cancer-auto-ml\\',\\'compute_target\\':\\'cluster-project\\',\\'subscription_id\\':\\'6971f5ac-8af1-446e-8034-05acea24681f\\',\\'region\\':\\'westus2\\',\\'spark_service\\':None}\",\"ensemble_run_id\":\"AutoML_72024c89-fcd5-47e9-b812-3889f402a6be_38\",\"experiment_name\":\"cancer-auto-ml\",\"workspace_name\":\"quick-starts-ws-233079\",\"subscription_id\":\"6971f5ac-8af1-446e-8034-05acea24681f\",\"resource_group_name\":\"aml-quickstarts-233079\"}}]}', 'training_type': 'MeanCrossValidation', 'fit_time': '43', 'goal': 'AUC_weighted_max', 'primary_metric': 'AUC_weighted', 'errors': '{}', 'onnx_model_resource': '{}', 'dependencies_versions': '{\"azureml-training-tabular\": \"1.50.0\", \"azureml-train-restclients-hyperdrive\": \"1.50.0\", \"azureml-train-core\": \"1.50.0\", \"azureml-train-automl-runtime\": \"1.50.0\", \"azureml-train-automl-client\": \"1.50.0\", \"azureml-telemetry\": \"1.50.0\", \"azureml-responsibleai\": \"1.50.0\", \"azureml-pipeline-core\": \"1.50.0.post1\", \"azureml-mlflow\": \"1.50.0\", \"azureml-interpret\": \"1.50.0\", \"azureml-inference-server-http\": \"0.8.3\", \"azureml-defaults\": \"1.50.0\", \"azureml-dataset-runtime\": \"1.50.0\", \"azureml-dataprep\": \"4.10.6\", \"azureml-dataprep-rslex\": \"2.17.5\", \"azureml-dataprep-native\": \"38.0.0\", \"azureml-core\": \"1.50.0\", \"azureml-automl-runtime\": \"1.50.0\", \"azureml-automl-core\": \"1.50.0\"}', 'num_cores': '2', 'num_logical_cores': '2', 'peak_memory_usage': '1361420', 'vm_configuration': 'x86_64', 'core_hours': '0.015466608333333335', 'feature_skus': 'automatedml_sdk_guardrails'}\n"
        }
      ],
      "execution_count": 30,
      "metadata": {
        "jupyter": {
          "source_hidden": false,
          "outputs_hidden": false
        },
        "nteract": {
          "transient": {
            "deleting": false
          }
        },
        "gather": {
          "logged": 1683538976073
        }
      }
    },
    {
      "cell_type": "code",
      "source": [
        "model_name = best_run.properties[\"model_name\"]\n",
        "\n",
        "script_file_name = \"inference/score.py\"\n",
        "\n",
        "best_run.download_file(\"outputs/scoring_file_v_1_0_0.py\", \"inference/score.py\")"
      ],
      "outputs": [],
      "execution_count": 34,
      "metadata": {
        "gather": {
          "logged": 1683539583426
        },
        "jupyter": {
          "outputs_hidden": false,
          "source_hidden": false
        },
        "nteract": {
          "transient": {
            "deleting": false
          }
        }
      }
    },
    {
      "cell_type": "markdown",
      "source": [
        "## Model Deployment\n",
        "\n",
        "Remember you have to deploy only one of the two models you trained but you still need to register both the models. Perform the steps in the rest of this notebook only if you wish to deploy this model.\n",
        "\n",
        "TODO: In the cell below, register the model, create an inference config and deploy the model as a web service."
      ],
      "metadata": {}
    },
    {
      "cell_type": "code",
      "source": [
        "description = \"AutoML Model trained on cancer data to predict if a patient has a malignant or benign tumour\"\r\n",
        "tags = None\r\n",
        "model = remote_run.register_model(\r\n",
        "    model_name=model_name, description=description, tags=tags\r\n",
        ")"
      ],
      "outputs": [],
      "execution_count": 37,
      "metadata": {
        "gather": {
          "logged": 1683539722053
        },
        "jupyter": {
          "outputs_hidden": false,
          "source_hidden": false
        },
        "nteract": {
          "transient": {
            "deleting": false
          }
        }
      }
    },
    {
      "cell_type": "markdown",
      "source": [
        "TODO: In the cell below, send a request to the web service you deployed to test it."
      ],
      "metadata": {
        "collapsed": true,
        "gather": {
          "logged": 1598431657736
        },
        "jupyter": {
          "outputs_hidden": false,
          "source_hidden": false
        },
        "nteract": {
          "transient": {
            "deleting": false
          }
        }
      }
    },
    {
      "cell_type": "code",
      "source": [
        "\r\n",
        "inference_config = InferenceConfig(entry_script=script_file_name)\r\n",
        "\r\n",
        "aciconfig = AciWebservice.deploy_configuration(\r\n",
        "    cpu_cores=2,\r\n",
        "    memory_gb=2,\r\n",
        "    tags={\"area\": \"CancerData\", \"type\": \"automl_cd_classification\"},\r\n",
        "    description=\"sample service for CancerData Automl Classification\",\r\n",
        ")\r\n",
        "\r\n",
        "aci_service_name = model_name.lower()\r\n",
        "print(aci_service_name)\r\n",
        "aci_service = Model.deploy(ws, aci_service_name, [model], inference_config, aciconfig)\r\n",
        "aci_service.wait_for_deployment(True)\r\n",
        "print(aci_service.state)"
      ],
      "outputs": [
        {
          "output_type": "stream",
          "name": "stdout",
          "text": "automl72024c89f38\nTips: You can try get_logs(): https://aka.ms/debugimage#dockerlog or local deployment: https://aka.ms/debugimage#debug-locally to debug if deployment takes longer than 10 minutes.\nRunning\n2023-05-08 10:23:28+00:00 Creating Container Registry if not exists.\n2023-05-08 10:23:29+00:00 Generating deployment configuration.\n2023-05-08 10:23:29+00:00 Submitting deployment to compute.\n2023-05-08 10:23:34+00:00 Checking the status of deployment automl72024c89f38..\n2023-05-08 10:25:27+00:00 Checking the status of inference endpoint automl72024c89f38.\nSucceeded\nACI service creation operation finished, operation \"Succeeded\"\nHealthy\n"
        }
      ],
      "execution_count": 43,
      "metadata": {
        "gather": {
          "logged": 1683541559968
        },
        "jupyter": {
          "outputs_hidden": false,
          "source_hidden": false
        },
        "nteract": {
          "transient": {
            "deleting": false
          }
        }
      }
    },
    {
      "cell_type": "markdown",
      "source": [
        "TODO: In the cell below, print the logs of the web service and delete the service"
      ],
      "metadata": {
        "collapsed": true,
        "gather": {
          "logged": 1598432765711
        },
        "jupyter": {
          "outputs_hidden": false,
          "source_hidden": false
        },
        "nteract": {
          "transient": {
            "deleting": false
          }
        }
      }
    },
    {
      "cell_type": "code",
      "source": [
        "aci_service.get_logs()"
      ],
      "outputs": [
        {
          "output_type": "execute_result",
          "execution_count": 44,
          "data": {
            "text/plain": "'2023-05-08T10:25:24,750195000+00:00 - rsyslog/run \\n2023-05-08T10:25:24,757407300+00:00 - gunicorn/run \\n2023-05-08T10:25:24,760238300+00:00 | gunicorn/run | \\n2023-05-08T10:25:24,765803500+00:00 | gunicorn/run | ###############################################\\n2023-05-08T10:25:24,770333200+00:00 | gunicorn/run | AzureML Container Runtime Information\\n2023-05-08T10:25:24,773734800+00:00 | gunicorn/run | ###############################################\\n2023-05-08T10:25:24,779430400+00:00 | gunicorn/run | \\n2023-05-08T10:25:24,783996000+00:00 - nginx/run \\n2023-05-08T10:25:24,786343800+00:00 | gunicorn/run | \\n2023-05-08T10:25:24,802297400+00:00 | gunicorn/run | AzureML image information: openmpi4.1.0-ubuntu20.04, Materializaton Build:20230412.v4\\n2023-05-08T10:25:24,803679500+00:00 | gunicorn/run | \\n2023-05-08T10:25:24,805015200+00:00 | gunicorn/run | \\n2023-05-08T10:25:24,811638800+00:00 | gunicorn/run | PATH environment variable: /azureml-envs/azureml-automl/bin:/opt/miniconda/bin:/usr/local/sbin:/usr/local/bin:/usr/sbin:/usr/bin:/sbin:/bin\\n2023-05-08T10:25:24,815201100+00:00 | gunicorn/run | PYTHONPATH environment variable: \\n2023-05-08T10:25:24,818437100+00:00 | gunicorn/run | \\n2023-05-08T10:25:26,466528100+00:00 | gunicorn/run | CONDAPATH environment variable: /opt/miniconda\\n\\n# conda environments:\\n#\\n                         /azureml-envs/azureml-automl\\nbase                     /opt/miniconda\\n\\n2023-05-08T10:25:28,324551400+00:00 | gunicorn/run | \\n2023-05-08T10:25:28,329527000+00:00 | gunicorn/run | Pip Dependencies (before dynamic installation)\\n\\nadal==1.2.7\\napplicationinsights==0.11.10\\narch==5.3.1\\nargcomplete==2.1.2\\nasttokens==2.2.1\\nattrs==22.2.0\\nazure-common==1.1.28\\nazure-core==1.26.4\\nazure-graphrbac==0.61.1\\nazure-identity==1.12.0\\nazure-mgmt-authorization==3.0.0\\nazure-mgmt-containerregistry==10.1.0\\nazure-mgmt-core==1.4.0\\nazure-mgmt-keyvault==10.2.1\\nazure-mgmt-resource==22.0.0\\nazure-mgmt-storage==21.0.0\\nazure-storage-blob==12.13.0\\nazure-storage-queue==12.6.0\\nazureml-automl-core==1.50.0\\nazureml-automl-runtime==1.50.0\\nazureml-core==1.50.0\\nazureml-dataprep==4.10.6\\nazureml-dataprep-native==38.0.0\\nazureml-dataprep-rslex==2.17.5\\nazureml-dataset-runtime==1.50.0\\nazureml-defaults==1.50.0\\nazureml-inference-server-http==0.8.3\\nazureml-interpret==1.50.0\\nazureml-mlflow==1.50.0\\nazureml-pipeline-core==1.50.0.post1\\nazureml-responsibleai==1.50.0\\nazureml-telemetry==1.50.0\\nazureml-train-automl-client==1.50.0\\nazureml-train-automl-runtime==1.50.0\\nazureml-train-core==1.50.0\\nazureml-train-restclients-hyperdrive==1.50.0\\nazureml-training-tabular==1.50.0\\nbackcall==0.2.0\\nbackports.tempfile==1.0\\nbackports.weakref==1.0.post1\\nbcrypt==4.0.1\\nbokeh==2.4.3\\nboto==2.49.0\\nboto3==1.15.18\\nbotocore==1.18.18\\nbrotlipy @ file:///home/conda/feedstock_root/build_artifacts/brotlipy_1666764652625/work\\ncachetools==5.3.0\\ncertifi==2022.12.7\\ncffi @ file:///home/conda/feedstock_root/build_artifacts/cffi_1671179356964/work\\ncharset-normalizer @ file:///home/conda/feedstock_root/build_artifacts/charset-normalizer_1678108872112/work\\nclick==8.1.3\\ncloudpickle @ file:///home/conda/feedstock_root/build_artifacts/cloudpickle_1598400192773/work\\ncmdstanpy==0.9.5\\ncontextlib2==21.6.0\\ncontourpy==1.0.7\\nconvertdate @ file:///home/conda/feedstock_root/build_artifacts/convertdate_1642883757836/work\\ncryptography @ file:///home/conda/feedstock_root/build_artifacts/cryptography-split_1675828607636/work\\ncycler==0.11.0\\nCython==0.29.17\\ndask==2023.2.0\\ndatabricks-cli==0.17.6\\ndataclasses==0.6\\ndebugpy==1.6.7\\ndecorator==5.1.1\\ndice-ml==0.9\\ndill==0.3.6\\ndistributed==2023.2.0\\ndistro==1.8.0\\ndocker==5.0.3\\ndotnetcore2==3.1.23\\neconml==0.14.0\\nentrypoints==0.4\\nephem==4.1.4\\nerroranalysis==0.4.2\\nexecuting==1.2.0\\nfairlearn==0.8.0\\nfbprophet==0.7.1\\nfire==0.5.0\\nFlask==2.2.3\\nFlask-Cors==3.0.10\\nflatbuffers==23.3.3\\nfonttools==4.39.3\\nfsspec==2023.4.0\\nfusepy==3.0.1\\ngensim==3.8.3\\ngitdb==4.0.10\\nGitPython==3.1.31\\ngoogle-api-core==2.11.0\\ngoogle-auth==2.17.3\\ngoogleapis-common-protos==1.59.0\\ngunicorn==20.1.0\\nh5py==3.8.0\\nHeapDict==1.0.1\\nholidays @ file:///home/conda/feedstock_root/build_artifacts/holidays_1595448845196/work\\nhumanfriendly==10.0\\nidna @ file:///home/conda/feedstock_root/build_artifacts/idna_1663625384323/work\\nimportlib-metadata==6.3.0\\nimportlib-resources==5.12.0\\ninference-schema==1.5.1\\ninterpret-community==0.28.0\\ninterpret-core==0.2.7\\nipykernel==6.8.0\\nipython==8.12.0\\nisodate==0.6.1\\nitsdangerous==2.1.2\\njedi==0.18.2\\njeepney==0.8.0\\nJinja2==3.1.2\\njmespath==0.10.0\\njoblib @ file:///home/conda/feedstock_root/build_artifacts/joblib_1663332044897/work\\njsonpickle==3.0.1\\njsonschema==4.17.3\\njupyter_client==7.4.9\\njupyter_core==5.3.0\\nkeras2onnx==1.6.0\\nkiwisolver==1.4.4\\nknack==0.10.1\\nkorean-lunar-calendar @ file:///home/conda/feedstock_root/build_artifacts/korean_lunar_calendar_1663341251025/work\\nlightgbm==3.2.1\\nllvmlite==0.38.1\\nlocket==1.0.0\\nLunarCalendar==0.0.9\\nMarkupSafe==2.1.2\\nmatplotlib==3.7.1\\nmatplotlib-inline==0.1.6\\nml-wrappers==0.4.7\\nmlflow-skinny==2.2.2\\nmltable==1.3.0\\nmsal==1.21.0\\nmsal-extensions==1.0.0\\nmsgpack==1.0.5\\nmsrest==0.7.1\\nmsrestazure==0.6.4\\nndg-httpsclient==0.5.1\\nnest-asyncio==1.5.6\\nnetworkx==2.5\\nnumba==0.55.2\\nnumpy==1.22.3\\noauthlib==3.2.2\\nonnx==1.13.0\\nonnxconverter-common==1.6.0\\nonnxmltools==1.4.1\\nonnxruntime==1.11.1\\nopencensus==0.11.2\\nopencensus-context==0.1.3\\nopencensus-ext-azure==1.1.9\\npackaging==23.0\\npandas==1.1.5\\nparamiko==3.1.0\\nparso==0.8.3\\npartd==1.4.0\\npathspec==0.11.1\\npatsy==0.5.3\\npexpect==4.8.0\\npickleshare==0.7.5\\nPillow==9.5.0\\npkginfo==1.9.6\\npkgutil_resolve_name==1.3.10\\nplatformdirs @ file:///home/conda/feedstock_root/build_artifacts/platformdirs_1679871349196/work\\npmdarima==1.7.1\\npooch @ file:///home/conda/feedstock_root/build_artifacts/pooch_1679580333621/work\\nportalocker==2.7.0\\nprompt-toolkit==3.0.38\\nproperty-cached==1.6.4\\nprotobuf==3.20.3\\npsutil @ file:///home/conda/feedstock_root/build_artifacts/psutil_1667885878918/work\\nptyprocess==0.7.0\\npure-eval==0.2.2\\npy-cpuinfo==5.0.0\\npyarrow==9.0.0\\npyasn1==0.4.8\\npyasn1-modules==0.2.8\\npycparser @ file:///home/conda/feedstock_root/build_artifacts/pycparser_1636257122734/work\\npydantic==1.10.7\\nPygments==2.15.0\\nPyJWT==2.6.0\\nPyMeeus @ file:///home/conda/feedstock_root/build_artifacts/pymeeus_1670868433998/work\\nPyNaCl==1.5.0\\npyOpenSSL @ file:///home/conda/feedstock_root/build_artifacts/pyopenssl_1680037383858/work\\npyparsing==3.0.9\\npyrsistent==0.19.3\\nPySocks @ file:///home/conda/feedstock_root/build_artifacts/pysocks_1661604839144/work\\npystan==2.19.1.1\\npython-dateutil @ file:///home/conda/feedstock_root/build_artifacts/python-dateutil_1626286286081/work\\npytz==2022.7.1\\nPyYAML==6.0\\npyzmq==25.0.2\\nraiutils==0.4.0\\nrequests @ file:///home/conda/feedstock_root/build_artifacts/requests_1680286922386/work\\nrequests-oauthlib==1.3.1\\nresponsibleai==0.26.0\\nrsa==4.9\\ns3transfer==0.3.7\\nscikit-learn==0.22.1\\nscipy==1.5.3\\nSecretStorage==3.3.3\\nsemver==2.13.0\\nsetuptools-git==1.2\\nshap==0.39.0\\nsix @ file:///home/conda/feedstock_root/build_artifacts/six_1620240208055/work\\nskl2onnx==1.4.9\\nsklearn-pandas==1.7.0\\nslicer==0.0.7\\nsmart-open==1.9.0\\nsmmap==5.0.0\\nsortedcontainers==2.4.0\\nsparse==0.14.0\\nsqlparse==0.4.3\\nstack-data==0.6.2\\nstatsmodels==0.11.1\\ntabulate==0.9.0\\ntblib==1.7.0\\ntermcolor==2.2.0\\ntoolz==0.12.0\\ntornado==6.2\\ntqdm==4.65.0\\ntraitlets==5.9.0\\ntyping_extensions @ file:///home/conda/feedstock_root/build_artifacts/typing_extensions_1678559861143/work\\nurllib3==1.25.11\\nwcwidth==0.2.6\\nwebsocket-client==1.5.1\\nWerkzeug==2.2.3\\nwrapt==1.12.1\\nxgboost==1.3.3\\nzict==2.2.0\\nzipp==3.15.0\\n\\n2023-05-08T10:25:30,519172521+00:00 | gunicorn/run | \\n2023-05-08T10:25:30,521197722+00:00 | gunicorn/run | ###############################################\\n2023-05-08T10:25:30,523013722+00:00 | gunicorn/run | Checking if the Python package azureml-inference-server-http is installed\\n2023-05-08T10:25:30,531449525+00:00 | gunicorn/run | ###############################################\\n2023-05-08T10:25:30,537769927+00:00 | gunicorn/run | \\n2023-05-08T10:25:33,866676232+00:00 | gunicorn/run | \\n2023-05-08T10:25:33,869051533+00:00 | gunicorn/run | ###############################################\\n2023-05-08T10:25:33,873382634+00:00 | gunicorn/run | AzureML Inference Server\\n2023-05-08T10:25:33,880665437+00:00 | gunicorn/run | ###############################################\\n2023-05-08T10:25:33,895141941+00:00 | gunicorn/run | \\n2023-05-08T10:25:37,056634260+00:00 | gunicorn/run | Starting AzureML Inference Server HTTP.\\n2023-05-08 10:25:37,420 I [81] azmlinfsrv - Loaded logging config from /azureml-envs/azureml-automl/lib/python3.8/site-packages/azureml_inference_server_http/logging.json\\n2023-05-08 10:25:37,692 I [81] gunicorn.error - Starting gunicorn 20.1.0\\n2023-05-08 10:25:37,693 I [81] gunicorn.error - Listening at: http://0.0.0.0:31311 (81)\\n2023-05-08 10:25:37,693 I [81] gunicorn.error - Using worker: sync\\n2023-05-08 10:25:37,699 I [174] gunicorn.error - Booting worker with pid: 174\\n\\nAzure ML Inferencing HTTP server v0.8.3\\n\\n\\nServer Settings\\n---------------\\nEntry Script Name: /var/azureml-app/main.py\\nModel Directory: /var/azureml-app/azureml-models/AutoML72024c89f38/1\\nConfig File: None\\nWorker Count: 1\\nWorker Timeout (seconds): 300\\nServer Port: 31311\\nApplication Insights Enabled: false\\nApplication Insights Key: None\\nInferencing HTTP server version: azmlinfsrv/0.8.3\\nCORS for the specified origins: None\\n\\n\\nServer Routes\\n---------------\\nLiveness Probe: GET   127.0.0.1:31311/\\n/azureml-envs/azureml-automl/lib/python3.8/site-packages/azureml_inference_server_http/server/config.py:51: FutureWarning: aliases are no longer used by BaseSettings to define which environment variables to read. Instead use the \"env\" field setting. See https://pydantic-docs.helpmanual.io/usage/settings/#environment-variable-names\\nScore:          POST  127.0.0.1:31311/score\\n\\n  class AMLInferenceServerConfig(pydantic.BaseSettings):\\n2023-05-08 10:25:38,496 I [174] azmlinfsrv - AML_FLASK_ONE_COMPATIBILITY is set. Patched Flask to ensure compatibility with Flask 1.\\nInitializing logger\\n2023-05-08 10:25:38,499 I [174] azmlinfsrv - Starting up app insights client\\n2023-05-08 10:25:39,620 I [174] azmlinfsrv.user_script - Found driver script at /var/azureml-app/main.py and the score script at /var/azureml-app/score.py\\n2023-05-08 10:25:39,620 I [174] azmlinfsrv.user_script - run() is decorated with @input_schema. Server will invoke it with the following arguments: data, method.\\n2023-05-08 10:25:39,620 I [174] azmlinfsrv.user_script - Invoking user\\'s init function\\nERROR:fbprophet.plot:Importing plotly failed. Interactive plots will not work.\\n2023-05-08 10:25:51,683 I [174] azmlinfsrv.user_script - Users\\'s init has completed successfully\\n2023-05-08 10:25:51,691 I [174] azmlinfsrv.swagger - Swaggers are prepared for the following versions: [2, 3, 3.1].\\n2023-05-08 10:25:51,691 I [174] azmlinfsrv - Scoring timeout is set to 60000\\n2023-05-08 10:25:51,702 W [174] azmlinfsrv - x-ms-request-id header has been deprecated and will be removed from future versions of the server. Please use x-ms-client-request-id.\\n2023-05-08 10:25:51,704 I [174] gunicorn.access - 127.0.0.1 - - [08/May/2023:10:25:51 +0000] \"GET / HTTP/1.0\" 200 7 \"-\" \"Go-http-client/1.1\"\\n2023-05-08 10:25:51,711 W [174] azmlinfsrv - x-ms-request-id header has been deprecated and will be removed from future versions of the server. Please use x-ms-client-request-id.\\n2023-05-08 10:25:51,712 I [174] azmlinfsrv - GET /swagger.json 200 0.974ms 5529\\n2023-05-08 10:25:51,712 I [174] gunicorn.access - 127.0.0.1 - - [08/May/2023:10:25:51 +0000] \"GET /swagger.json HTTP/1.0\" 200 5529 \"-\" \"Go-http-client/1.1\"\\n2023-05-08 10:25:57,771 W [174] azmlinfsrv - x-ms-request-id header has been deprecated and will be removed from future versions of the server. Please use x-ms-client-request-id.\\n2023-05-08 10:25:57,772 I [174] gunicorn.access - 127.0.0.1 - - [08/May/2023:10:25:57 +0000] \"GET / HTTP/1.0\" 200 7 \"-\" \"Go-http-client/1.1\"\\n2023-05-08 10:25:57,779 W [174] azmlinfsrv - x-ms-request-id header has been deprecated and will be removed from future versions of the server. Please use x-ms-client-request-id.\\n2023-05-08 10:25:57,781 I [174] azmlinfsrv - GET /swagger.json 200 1.200ms 5529\\n2023-05-08 10:25:57,782 I [174] gunicorn.access - 127.0.0.1 - - [08/May/2023:10:25:57 +0000] \"GET /swagger.json HTTP/1.0\" 200 5529 \"-\" \"Go-http-client/1.1\"\\n'"
          },
          "metadata": {}
        }
      ],
      "execution_count": 44,
      "metadata": {
        "jupyter": {
          "outputs_hidden": false,
          "source_hidden": false
        },
        "nteract": {
          "transient": {
            "deleting": false
          }
        },
        "gather": {
          "logged": 1683541893478
        }
      }
    },
    {
      "cell_type": "markdown",
      "source": [
        "**Submission Checklist**\n",
        "- I have registered the model.\n",
        "- I have deployed the model with the best accuracy as a webservice.\n",
        "- I have tested the webservice by sending a request to the model endpoint.\n",
        "- I have deleted the webservice and shutdown all the computes that I have used.\n",
        "- I have taken a screenshot showing the model endpoint as active.\n",
        "- The project includes a file containing the environment details.\n"
      ],
      "metadata": {}
    },
    {
      "cell_type": "markdown",
      "source": [],
      "metadata": {}
    }
  ],
  "metadata": {
    "kernel_info": {
      "name": "python38-azureml"
    },
    "kernelspec": {
      "name": "python38-azureml",
      "language": "python",
      "display_name": "Python 3.8 - AzureML"
    },
    "language_info": {
      "name": "python",
      "version": "3.8.5",
      "mimetype": "text/x-python",
      "codemirror_mode": {
        "name": "ipython",
        "version": 3
      },
      "pygments_lexer": "ipython3",
      "nbconvert_exporter": "python",
      "file_extension": ".py"
    },
    "nteract": {
      "version": "nteract-front-end@1.0.0"
    },
    "microsoft": {
      "host": {
        "AzureML": {
          "notebookHasBeenCompleted": true
        }
      },
      "ms_spell_check": {
        "ms_spell_check_language": "en"
      }
    }
  },
  "nbformat": 4,
  "nbformat_minor": 2
}